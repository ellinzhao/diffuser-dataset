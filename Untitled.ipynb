{
 "cells": [
  {
   "cell_type": "code",
   "execution_count": 1,
   "metadata": {
    "collapsed": true
   },
   "outputs": [],
   "source": [
    "import os, subprocess, glob\n",
    "\n",
    "import numpy as np\n",
    "from matplotlib import pyplot as plt\n",
    "from scipy import ndimage\n",
    "\n",
    "import matplotlib.cm as cm\n"
   ]
  },
  {
   "cell_type": "code",
   "execution_count": null,
   "metadata": {
    "collapsed": true
   },
   "outputs": [],
   "source": [
    "class Img2D:\n",
    "    \n",
    "    def __init__(self, n, r, k):\n",
    "        self.n = n\n",
    "        self.r = r\n",
    "        self.k = k\n",
    "        self.arr, self.centers = self.gen_2d_points(n, r, k)\n",
    "\n",
    "    def gen_2d_points(self, n, r, k):\n",
    "        \"\"\"\n",
    "        n = dim of the image.\n",
    "        r = max radius of point.\n",
    "        k = num of random points.\n",
    "        all params >= 1.\n",
    "        \"\"\"\n",
    "        arr = np.ones((n, n))\n",
    "        centers = []\n",
    "        while k > 0:\n",
    "            a = np.random.randint(0, n)\n",
    "            b = np.random.randint(0, n)\n",
    "            centers += [(a, b)]\n",
    "            r1 = np.random.randint(r/2, r)\n",
    "            # (a, b) is center of point, r1 is radius for point. \n",
    "\n",
    "            y, x = np.ogrid[-a:n-a, -b:n-b]\n",
    "            mask = x*x + y*y <= r1*r1\n",
    "            arr[mask] = 255\n",
    "            k -= 1\n",
    "        return arr, centers\n",
    "    \n",
    "    def get_img(self):\n",
    "        # not filtered array\n",
    "        return self.arr\n",
    "    \n",
    "    def show_img(self):\n",
    "        img_filtered = ndimage.gaussian_filter(self.arr, sigma=7, order=0)\n",
    "        plt.imshow(img_filtered, cmap='gray', interpolation='nearest');\n",
    "        \n",
    "    def get_centers(self):\n",
    "        return self.centers\n",
    "    \n",
    "    def plt_x_section(self):\n",
    "        img_filtered = ndimage.gaussian_filter(self.arr, sigma=7, order=0)\n",
    "        x, y = self.centers[0]\n",
    "        start = -1\n",
    "        end = -1\n",
    "        prev = -1\n",
    "        prev = 100\n",
    "        for i in range(0, 500):\n",
    "            curr = img_filtered[x][i]\n",
    "            if start == -1 and prev == 1.0 and curr != 1.0:\n",
    "                start = i\n",
    "            elif start != -1 and end == -1 and prev != 1.0 and curr == 1.0:\n",
    "                end = i\n",
    "                break\n",
    "            prev = curr\n",
    "        plt.plot(img_filtered[x][start:end])\n",
    "        plt.show()\n"
   ]
  },
  {
   "cell_type": "code",
   "execution_count": null,
   "metadata": {
    "collapsed": true
   },
   "outputs": [],
   "source": [
    "class Img3D:\n",
    "    \n",
    "    def __init__(self, n, r, k):\n",
    "        self.n = n\n",
    "        self.r = r\n",
    "        self.k = k\n",
    "        self.arr, self.centers = self.gen_2d_points(n, r, k)\n",
    "\n",
    "    def gen_2d_points(self, n, r, k):\n",
    "        \"\"\"\n",
    "        n = dim of the image.\n",
    "        r = max radius of point.\n",
    "        k = num of random points.\n",
    "        all params >= 1.\n",
    "        \"\"\"\n",
    "        arr = np.ones((n, n))\n",
    "        centers = []\n",
    "        while k > 0:\n",
    "            a = np.random.randint(0, n)\n",
    "            b = np.random.randint(0, n)\n",
    "            centers += [(a, b)]\n",
    "            r1 = np.random.randint(r/2, r)\n",
    "            # (a, b) is center of point, r1 is radius for point. \n",
    "\n",
    "            y, x = np.ogrid[-a:n-a, -b:n-b]\n",
    "            mask = x*x + y*y <= r1*r1\n",
    "            arr[mask] = 255\n",
    "            k -= 1\n",
    "        return arr, centers\n",
    "    \n",
    "    def get_img(self):\n",
    "        # not filtered array\n",
    "        return self.arr\n",
    "    \n",
    "    def show_img(self):\n",
    "        img_filtered = ndimage.gaussian_filter(self.arr, sigma=7, order=0)\n",
    "        plt.imshow(img_filtered, cmap='gray', interpolation='nearest');\n",
    "        \n",
    "    def get_centers(self):\n",
    "        return self.centers\n",
    "    \n",
    "    def plt_x_section(self):\n",
    "        img_filtered = ndimage.gaussian_filter(self.arr, sigma=7, order=0)\n",
    "        x, y = self.centers[0]\n",
    "        start = -1\n",
    "        end = -1\n",
    "        prev = -1\n",
    "        prev = 100\n",
    "        for i in range(0, 500):\n",
    "            curr = img_filtered[x][i]\n",
    "            if start == -1 and prev == 1.0 and curr != 1.0:\n",
    "                start = i\n",
    "            elif start != -1 and end == -1 and prev != 1.0 and curr == 1.0:\n",
    "                end = i\n",
    "                break\n",
    "            prev = curr\n",
    "        plt.plot(img_filtered[x][start:end])\n",
    "        plt.show()\n"
   ]
  },
  {
   "cell_type": "code",
   "execution_count": 3,
   "metadata": {
    "collapsed": true
   },
   "outputs": [],
   "source": [
    "\n",
    "def gen_3d_points(n, r, k):\n",
    "    \"\"\"\n",
    "    n = dim of the image.\n",
    "    r = max radius of point.\n",
    "    k = num of random points.\n",
    "    all params >= 1.\n",
    "    \"\"\"\n",
    "    arr = np.zeros((n, n, n))\n",
    "    print(\"done initializing\")\n",
    "    for _ in range(k):\n",
    "        a = np.random.randint(n/4, 3*n/4)\n",
    "        b = np.random.randint(n/4, 3*n/4)\n",
    "        c = np.random.randint(n/4, 3*n/4)\n",
    "        r1 = np.random.randint(r/2, r)\n",
    "        print(a, b, c, r1)\n",
    "        x, y, z = np.ogrid[-a:n-a, -b:n-b, -c:n-c]\n",
    "        # creating mask with radius r1-i\n",
    "        mask = x*x + y*y + z*z <= (r1)*(r1)\n",
    "        arr[mask] = 255\n",
    "        print(\"done making 1 point\")\n",
    "    return arr\n"
   ]
  },
  {
   "cell_type": "code",
   "execution_count": 8,
   "metadata": {
    "collapsed": false
   },
   "outputs": [
    {
     "name": "stdout",
     "output_type": "stream",
     "text": [
      "done initializing\n",
      "61 35 52 5\n",
      "done making 1 point\n",
      "36 53 40 3\n",
      "done making 1 point\n",
      "37 49 38 3\n",
      "done making 1 point\n",
      "[[[ 0.  0.  0. ...,  0.  0.  0.]\n",
      "  [ 0.  0.  0. ...,  0.  0.  0.]\n",
      "  [ 0.  0.  0. ...,  0.  0.  0.]\n",
      "  ..., \n",
      "  [ 0.  0.  0. ...,  0.  0.  0.]\n",
      "  [ 0.  0.  0. ...,  0.  0.  0.]\n",
      "  [ 0.  0.  0. ...,  0.  0.  0.]]\n",
      "\n",
      " [[ 0.  0.  0. ...,  0.  0.  0.]\n",
      "  [ 0.  0.  0. ...,  0.  0.  0.]\n",
      "  [ 0.  0.  0. ...,  0.  0.  0.]\n",
      "  ..., \n",
      "  [ 0.  0.  0. ...,  0.  0.  0.]\n",
      "  [ 0.  0.  0. ...,  0.  0.  0.]\n",
      "  [ 0.  0.  0. ...,  0.  0.  0.]]\n",
      "\n",
      " [[ 0.  0.  0. ...,  0.  0.  0.]\n",
      "  [ 0.  0.  0. ...,  0.  0.  0.]\n",
      "  [ 0.  0.  0. ...,  0.  0.  0.]\n",
      "  ..., \n",
      "  [ 0.  0.  0. ...,  0.  0.  0.]\n",
      "  [ 0.  0.  0. ...,  0.  0.  0.]\n",
      "  [ 0.  0.  0. ...,  0.  0.  0.]]\n",
      "\n",
      " ..., \n",
      " [[ 0.  0.  0. ...,  0.  0.  0.]\n",
      "  [ 0.  0.  0. ...,  0.  0.  0.]\n",
      "  [ 0.  0.  0. ...,  0.  0.  0.]\n",
      "  ..., \n",
      "  [ 0.  0.  0. ...,  0.  0.  0.]\n",
      "  [ 0.  0.  0. ...,  0.  0.  0.]\n",
      "  [ 0.  0.  0. ...,  0.  0.  0.]]\n",
      "\n",
      " [[ 0.  0.  0. ...,  0.  0.  0.]\n",
      "  [ 0.  0.  0. ...,  0.  0.  0.]\n",
      "  [ 0.  0.  0. ...,  0.  0.  0.]\n",
      "  ..., \n",
      "  [ 0.  0.  0. ...,  0.  0.  0.]\n",
      "  [ 0.  0.  0. ...,  0.  0.  0.]\n",
      "  [ 0.  0.  0. ...,  0.  0.  0.]]\n",
      "\n",
      " [[ 0.  0.  0. ...,  0.  0.  0.]\n",
      "  [ 0.  0.  0. ...,  0.  0.  0.]\n",
      "  [ 0.  0.  0. ...,  0.  0.  0.]\n",
      "  ..., \n",
      "  [ 0.  0.  0. ...,  0.  0.  0.]\n",
      "  [ 0.  0.  0. ...,  0.  0.  0.]\n",
      "  [ 0.  0.  0. ...,  0.  0.  0.]]]\n"
     ]
    }
   ],
   "source": [
    "img = gen_3d_points(100, 6, 3)\n",
    "print(img)\n"
   ]
  },
  {
   "cell_type": "code",
   "execution_count": 9,
   "metadata": {
    "collapsed": false
   },
   "outputs": [
    {
     "data": {
      "text/html": [
       "<video width=\"400\" height=\"400\" controls autoplay loop>\n",
       "  <source type=\"video/mp4\" src=\"data:video/mp4;base64,AAAAHGZ0eXBNNFYgAAACAGlzb21pc28yYXZjMQAAAAhmcmVlAAAMSG1kYXQAAAKtBgX//6ncRem9\n",
       "5tlIt5Ys2CDZI+7veDI2NCAtIGNvcmUgMTUyIHIyODU0IGU5YTU5MDMgLSBILjI2NC9NUEVHLTQg\n",
       "QVZDIGNvZGVjIC0gQ29weWxlZnQgMjAwMy0yMDE3IC0gaHR0cDovL3d3dy52aWRlb2xhbi5vcmcv\n",
       "eDI2NC5odG1sIC0gb3B0aW9uczogY2FiYWM9MSByZWY9MyBkZWJsb2NrPTE6MDowIGFuYWx5c2U9\n",
       "MHgzOjB4MTEzIG1lPWhleCBzdWJtZT03IHBzeT0xIHBzeV9yZD0xLjAwOjAuMDAgbWl4ZWRfcmVm\n",
       "PTEgbWVfcmFuZ2U9MTYgY2hyb21hX21lPTEgdHJlbGxpcz0xIDh4OGRjdD0xIGNxbT0wIGRlYWR6\n",
       "b25lPTIxLDExIGZhc3RfcHNraXA9MSBjaHJvbWFfcXBfb2Zmc2V0PS0yIHRocmVhZHM9NiBsb29r\n",
       "YWhlYWRfdGhyZWFkcz0xIHNsaWNlZF90aHJlYWRzPTAgbnI9MCBkZWNpbWF0ZT0xIGludGVybGFj\n",
       "ZWQ9MCBibHVyYXlfY29tcGF0PTAgY29uc3RyYWluZWRfaW50cmE9MCBiZnJhbWVzPTMgYl9weXJh\n",
       "bWlkPTIgYl9hZGFwdD0xIGJfYmlhcz0wIGRpcmVjdD0xIHdlaWdodGI9MSBvcGVuX2dvcD0wIHdl\n",
       "aWdodHA9MiBrZXlpbnQ9MjUwIGtleWludF9taW49MSBzY2VuZWN1dD00MCBpbnRyYV9yZWZyZXNo\n",
       "PTAgcmNfbG9va2FoZWFkPTQwIHJjPWNyZiBtYnRyZWU9MSBjcmY9MjMuMCBxY29tcD0wLjYwIHFw\n",
       "bWluPTAgcXBtYXg9NjkgcXBzdGVwPTQgaXBfcmF0aW89MS40MCBhcT0xOjEuMDAAgAAAAe1liIQA\n",
       "F//+99S3zLLtU2+2C6j3op4mX0N1JQGblsTtOoAAAAMAxMyTL9AE1z2af8IFHwEeZgk63iQ5XrcN\n",
       "ga0I8bTnm8qxTegu6eMDjNtsnaEuETVUyfVOzqautWOHRcDOpUMxSLSbb7aI2pTPjx+c5N0cTdjo\n",
       "Ixa7FMiH/8cLil5XF0ZTUFfJJRynWgR20yBTT3S7bYIQun87lBQxLTGB7Iwvse9uHc24CbBuMfXN\n",
       "uUdvs2lNXtklUJtPWlxH6boY27oajCOkjEQsb/lqsGzARngAk4AUXZdzmIL/5zFbXkQX4YQJN0v9\n",
       "uX7GPqVs1mF9I20XLyAVOPUG6aHn+b9LNhZW/ZzueWkGkKq4OviRYYnZP50MR3D3VeROrQAlFmMC\n",
       "rmHgRA//nfQGlB7RWy0uab+qgQapIqUcm7yFreHfuqDAaPqlTdFIUedklFc7wZ0eQLgz8iDEZH9Z\n",
       "AR/Oj8tmBGiz4b4VrSU5rDpAEVlnhrcT/VQfqyTuNDQeBfbgj+r9kZxcc5h/Y/Tm3N09sdwAu0O1\n",
       "0F4PRoIQBSEc/hPUK3f7tASH93XEGV3VJGIH1oQkp7ghFVAAM0SWVcu1b52h4NB4AAADAABirDwf\n",
       "TtW1s1ly4td6WFpnKPELBaj1Mb5DlNCCEK/YAAADAK2BAAAAEEGaJGxBf/7aplgAAAMAHLAAAAAN\n",
       "QZ5CeILfAAADAAAMqQAAAA0BnmF0QV8AAAMAABNwAAAADQGeY2pBXwAAAwAAE3EAAAAWQZpoSahB\n",
       "aJlMCC///tqmWAAAAwAcsQAAAA9BnoZFESwW/wAAAwAADKkAAAANAZ6ldEFfAAADAAATcQAAAA0B\n",
       "nqdqQV8AAAMAABNwAAAAFkGarEmoQWyZTAgv//7aplgAAAMAHLAAAAAPQZ7KRRUsFv8AAAMAAAyp\n",
       "AAAADQGe6XRBXwAAAwAAE3AAAAANAZ7rakFfAAADAAATcAAAABZBmvBJqEFsmUwIL//+2qZYAAAD\n",
       "AByxAAAAD0GfDkUVLBb/AAADAAAMqQAAAA0Bny10QV8AAAMAABNxAAAADQGfL2pBXwAAAwAAE3AA\n",
       "AAAWQZs0SahBbJlMCC///tqmWAAAAwAcsAAAAA9Bn1JFFSwW/wAAAwAADKkAAAANAZ9xdEFfAAAD\n",
       "AAATcAAAAA0Bn3NqQV8AAAMAABNwAAAAFkGbeEmoQWyZTAgv//7aplgAAAMAHLEAAAAPQZ+WRRUs\n",
       "Fv8AAAMAAAyoAAAADQGftXRBXwAAAwAAE3EAAAANAZ+3akFfAAADAAATcQAAABZBm7xJqEFsmUwI\n",
       "L//+2qZYAAADABywAAAAD0Gf2kUVLBb/AAADAAAMqQAAAA0Bn/l0QV8AAAMAABNwAAAADQGf+2pB\n",
       "XwAAAwAAE3EAAAAWQZvgSahBbJlMCC///tqmWAAAAwAcsQAAAA9Bnh5FFSwW/wAAAwAADKgAAAAN\n",
       "AZ49dEFfAAADAAATcAAAAA0Bnj9qQV8AAAMAABNxAAAAFkGaJEmoQWyZTAgv//7aplgAAAMAHLAA\n",
       "AAAPQZ5CRRUsFv8AAAMAAAypAAAADQGeYXRBXwAAAwAAE3AAAAANAZ5jakFfAAADAAATcQAAABZB\n",
       "mmhJqEFsmUwIL//+2qZYAAADAByxAAAAD0GehkUVLBb/AAADAAAMqQAAAA0BnqV0QV8AAAMAABNx\n",
       "AAAADQGep2pBXwAAAwAAE3AAAAAWQZqsSahBbJlMCC///tqmWAAAAwAcsAAAAA9BnspFFSwW/wAA\n",
       "AwAADKkAAAANAZ7pdEFfAAADAAATcAAAAA0BnutqQV8AAAMAABNwAAAAFkGa8EmoQWyZTAgv//7a\n",
       "plgAAAMAHLEAAAAPQZ8ORRUsFv8AAAMAAAypAAAADQGfLXRBXwAAAwAAE3EAAAANAZ8vakFfAAAD\n",
       "AAATcAAAABZBmzRJqEFsmUwIL//+2qZYAAADABywAAAAD0GfUkUVLBb/AAADAAAMqQAAAA0Bn3F0\n",
       "QV8AAAMAABNwAAAADQGfc2pBXwAAAwAAE3AAAAAWQZt4SahBbJlMCC///tqmWAAAAwAcsQAAAA9B\n",
       "n5ZFFSwW/wAAAwAADKgAAAANAZ+1dEFfAAADAAATcQAAAA0Bn7dqQV8AAAMAABNxAAAAFkGbvEmo\n",
       "QWyZTAgv//7aplgAAAMAHLAAAAAPQZ/aRRUsFv8AAAMAAAypAAAADQGf+XRBXwAAAwAAE3AAAAAN\n",
       "AZ/7akFfAAADAAATcQAAABZBm+BJqEFsmUwIL//+2qZYAAADAByxAAAAD0GeHkUVLBb/AAADAAAM\n",
       "qAAAAA0Bnj10QV8AAAMAABNwAAAADQGeP2pBXwAAAwAAE3EAAAAWQZokSahBbJlMCC///tqmWAAA\n",
       "AwAcsAAAAA9BnkJFFSwW/wAAAwAADKkAAAANAZ5hdEFfAAADAAATcAAAAA0BnmNqQV8AAAMAABNx\n",
       "AAAAFkGaaEmoQWyZTAgv//7aplgAAAMAHLEAAAAPQZ6GRRUsFv8AAAMAAAypAAAADQGepXRBXwAA\n",
       "AwAAE3EAAAANAZ6nakFfAAADAAATcAAAABZBmqxJqEFsmUwIL//+2qZYAAADABywAAAAD0GeykUV\n",
       "LBb/AAADAAAMqQAAAA0Bnul0QV8AAAMAABNwAAAADQGe62pBXwAAAwAAE3AAAAAWQZrwSahBbJlM\n",
       "CC///tqmWAAAAwAcsQAAAA9Bnw5FFSwW/wAAAwAADKkAAAANAZ8tdEFfAAADAAATcQAAAA0Bny9q\n",
       "QV8AAAMAABNwAAAAFkGbNEmoQWyZTAgv//7aplgAAAMAHLAAAAAPQZ9SRRUsFv8AAAMAAAypAAAA\n",
       "DQGfcXRBXwAAAwAAE3AAAAANAZ9zakFfAAADAAATcAAAABZBm3hJqEFsmUwIL//+2qZYAAADAByx\n",
       "AAAAD0GflkUVLBb/AAADAAAMqAAAAA0Bn7V0QV8AAAMAABNxAAAADQGft2pBXwAAAwAAE3EAAAAW\n",
       "QZu8SahBbJlMCC///tqmWAAAAwAcsAAAAA9Bn9pFFSwW/wAAAwAADKkAAAANAZ/5dEFfAAADAAAT\n",
       "cAAAAA0Bn/tqQV8AAAMAABNxAAAAFkGb4EmoQWyZTAgv//7aplgAAAMAHLEAAAAPQZ4eRRUsFv8A\n",
       "AAMAAAyoAAAADQGePXRBXwAAAwAAE3AAAAANAZ4/akFfAAADAAATcQAAABZBmiNJqEFsmUwIK//+\n",
       "1qVQAAADABywAAAAD0GeQUUVLBX/AAADAAATcQAAAA0BnmJqQV8AAAMAABNwAAAH1m1vb3YAAABs\n",
       "bXZoZAAAAAAAAAAAAAAAAAAAA+gAAYagAAEAAAEAAAAAAAAAAAAAAAABAAAAAAAAAAAAAAAAAAAA\n",
       "AQAAAAAAAAAAAAAAAAAAQAAAAAAAAAAAAAAAAAAAAAAAAAAAAAAAAAAAAAAAAAIAAAcAdHJhawAA\n",
       "AFx0a2hkAAAAAwAAAAAAAAAAAAAAAQAAAAAAAYagAAAAAAAAAAAAAAAAAAAAAAABAAAAAAAAAAAA\n",
       "AAAAAAAAAQAAAAAAAAAAAAAAAAAAQAAAAAGQAAABkAAAAAAAJGVkdHMAAAAcZWxzdAAAAAAAAAAB\n",
       "AAGGoAAAgAAAAQAAAAAGeG1kaWEAAAAgbWRoZAAAAAAAAAAAAAAAAAAAQAAAGQAAVcQAAAAAAC1o\n",
       "ZGxyAAAAAAAAAAB2aWRlAAAAAAAAAAAAAAAAVmlkZW9IYW5kbGVyAAAABiNtaW5mAAAAFHZtaGQA\n",
       "AAABAAAAAAAAAAAAAAAkZGluZgAAABxkcmVmAAAAAAAAAAEAAAAMdXJsIAAAAAEAAAXjc3RibAAA\n",
       "ALNzdHNkAAAAAAAAAAEAAACjYXZjMQAAAAAAAAABAAAAAAAAAAAAAAAAAAAAAAGQAZAASAAAAEgA\n",
       "AAAAAAAAAQAAAAAAAAAAAAAAAAAAAAAAAAAAAAAAAAAAAAAAAAAAABj//wAAADFhdmNDAWQAFf/h\n",
       "ABhnZAAVrNlBkM6EAAADAAQAAAMACDxYtlgBAAZo6+PLIsAAAAAcdXVpZGtoQPJfJE/FujmlG88D\n",
       "I/MAAAAAAAAAGHN0dHMAAAAAAAAAAQAAAGQAAEAAAAAAFHN0c3MAAAAAAAAAAQAAAAEAAAMoY3R0\n",
       "cwAAAAAAAABjAAAAAQAAgAAAAAABAAFAAAAAAAEAAIAAAAAAAQAAAAAAAAABAABAAAAAAAEAAUAA\n",
       "AAAAAQAAgAAAAAABAAAAAAAAAAEAAEAAAAAAAQABQAAAAAABAACAAAAAAAEAAAAAAAAAAQAAQAAA\n",
       "AAABAAFAAAAAAAEAAIAAAAAAAQAAAAAAAAABAABAAAAAAAEAAUAAAAAAAQAAgAAAAAABAAAAAAAA\n",
       "AAEAAEAAAAAAAQABQAAAAAABAACAAAAAAAEAAAAAAAAAAQAAQAAAAAABAAFAAAAAAAEAAIAAAAAA\n",
       "AQAAAAAAAAABAABAAAAAAAEAAUAAAAAAAQAAgAAAAAABAAAAAAAAAAEAAEAAAAAAAQABQAAAAAAB\n",
       "AACAAAAAAAEAAAAAAAAAAQAAQAAAAAABAAFAAAAAAAEAAIAAAAAAAQAAAAAAAAABAABAAAAAAAEA\n",
       "AUAAAAAAAQAAgAAAAAABAAAAAAAAAAEAAEAAAAAAAQABQAAAAAABAACAAAAAAAEAAAAAAAAAAQAA\n",
       "QAAAAAABAAFAAAAAAAEAAIAAAAAAAQAAAAAAAAABAABAAAAAAAEAAUAAAAAAAQAAgAAAAAABAAAA\n",
       "AAAAAAEAAEAAAAAAAQABQAAAAAABAACAAAAAAAEAAAAAAAAAAQAAQAAAAAABAAFAAAAAAAEAAIAA\n",
       "AAAAAQAAAAAAAAABAABAAAAAAAEAAUAAAAAAAQAAgAAAAAABAAAAAAAAAAEAAEAAAAAAAQABQAAA\n",
       "AAABAACAAAAAAAEAAAAAAAAAAQAAQAAAAAABAAFAAAAAAAEAAIAAAAAAAQAAAAAAAAABAABAAAAA\n",
       "AAEAAUAAAAAAAQAAgAAAAAABAAAAAAAAAAEAAEAAAAAAAQABQAAAAAABAACAAAAAAAEAAAAAAAAA\n",
       "AQAAQAAAAAABAAFAAAAAAAEAAIAAAAAAAQAAAAAAAAABAABAAAAAAAEAAUAAAAAAAQAAgAAAAAAB\n",
       "AAAAAAAAAAEAAEAAAAAAAQABQAAAAAABAACAAAAAAAEAAAAAAAAAAQAAQAAAAAABAAEAAAAAAAIA\n",
       "AEAAAAAAHHN0c2MAAAAAAAAAAQAAAAEAAABkAAAAAQAAAaRzdHN6AAAAAAAAAAAAAABkAAAEogAA\n",
       "ABQAAAARAAAAEQAAABEAAAAaAAAAEwAAABEAAAARAAAAGgAAABMAAAARAAAAEQAAABoAAAATAAAA\n",
       "EQAAABEAAAAaAAAAEwAAABEAAAARAAAAGgAAABMAAAARAAAAEQAAABoAAAATAAAAEQAAABEAAAAa\n",
       "AAAAEwAAABEAAAARAAAAGgAAABMAAAARAAAAEQAAABoAAAATAAAAEQAAABEAAAAaAAAAEwAAABEA\n",
       "AAARAAAAGgAAABMAAAARAAAAEQAAABoAAAATAAAAEQAAABEAAAAaAAAAEwAAABEAAAARAAAAGgAA\n",
       "ABMAAAARAAAAEQAAABoAAAATAAAAEQAAABEAAAAaAAAAEwAAABEAAAARAAAAGgAAABMAAAARAAAA\n",
       "EQAAABoAAAATAAAAEQAAABEAAAAaAAAAEwAAABEAAAARAAAAGgAAABMAAAARAAAAEQAAABoAAAAT\n",
       "AAAAEQAAABEAAAAaAAAAEwAAABEAAAARAAAAGgAAABMAAAARAAAAEQAAABoAAAATAAAAEQAAABRz\n",
       "dGNvAAAAAAAAAAEAAAAsAAAAYnVkdGEAAABabWV0YQAAAAAAAAAhaGRscgAAAAAAAAAAbWRpcmFw\n",
       "cGwAAAAAAAAAAAAAAAAtaWxzdAAAACWpdG9vAAAAHWRhdGEAAAABAAAAAExhdmY1Ny44My4xMDA=\n",
       "\">\n",
       "  Your browser does not support the video tag.\n",
       "</video>"
      ],
      "text/plain": [
       "<IPython.core.display.HTML object>"
      ]
     },
     "execution_count": 9,
     "metadata": {},
     "output_type": "execute_result"
    }
   ],
   "source": [
    "funcs.imshowAnim_edit(img, img.shape[2], 4)\n"
   ]
  },
  {
   "cell_type": "code",
   "execution_count": 7,
   "metadata": {
    "collapsed": true
   },
   "outputs": [],
   "source": [
    "def cube_show_slider(cube, axis=2, **kwargs):\n",
    "    \"\"\"\n",
    "    Display a 3d ndarray with a slider to move along the third dimension.\n",
    "\n",
    "    Extra keyword arguments are passed to imshow\n",
    "    \"\"\"\n",
    "    import matplotlib.pyplot as plt\n",
    "    from matplotlib.widgets import Slider, Button, RadioButtons\n",
    "\n",
    "    # check dim\n",
    "    if not cube.ndim == 3:\n",
    "        raise ValueError(\"cube should be an ndarray with ndim == 3\")\n",
    "\n",
    "    # generate figure\n",
    "    fig = plt.figure()\n",
    "    ax = plt.subplot(111)\n",
    "    fig.subplots_adjust(left=0.25, bottom=0.25)\n",
    "\n",
    "    # select first image\n",
    "    s = [slice(0, 1) if i == axis else slice(None) for i in range(3)]\n",
    "    im = cube[s].squeeze()\n",
    "\n",
    "    # display image\n",
    "    l = ax.imshow(im, **kwargs)\n",
    "\n",
    "    # define slider\n",
    "    axcolor = 'lightgoldenrodyellow'\n",
    "    ax = fig.add_axes([0.25, 0.1, 0.65, 0.03], axisbg=axcolor)\n",
    "\n",
    "    slider = Slider(ax, 'Axis %i index' % axis, 0, cube.shape[axis] - 1,\n",
    "                    valinit=0, valfmt='%i')\n",
    "\n",
    "    def update(val):\n",
    "        ind = int(slider.val)\n",
    "        s = [slice(ind, ind + 1) if i == axis else slice(None)\n",
    "                 for i in xrange(3)]\n",
    "        im = cube[s].squeeze()\n",
    "        l.set_data(im, **kwargs)\n",
    "        fig.canvas.draw()\n",
    "\n",
    "    slider.on_changed(update)\n",
    "\n",
    "    plt.show()"
   ]
  },
  {
   "cell_type": "code",
   "execution_count": 8,
   "metadata": {
    "collapsed": false
   },
   "outputs": [
    {
     "name": "stderr",
     "output_type": "stream",
     "text": [
      "/Users/Ellin/anaconda/lib/python3.6/site-packages/matplotlib/cbook.py:136: MatplotlibDeprecationWarning: The axisbg attribute was deprecated in version 2.0. Use facecolor instead.\n",
      "  warnings.warn(message, mplDeprecation, stacklevel=1)\n"
     ]
    },
    {
     "data": {
      "text/plain": [
       "<matplotlib.figure.Figure at 0x1181b32b0>"
      ]
     },
     "metadata": {},
     "output_type": "display_data"
    },
    {
     "data": {
      "image/png": "[encoded data removed]",
      "text/plain": [
       "<matplotlib.figure.Figure at 0x11b604748>"
      ]
     },
     "metadata": {},
     "output_type": "display_data"
    },
    {
     "data": {
      "image/png": "[encoded data removed]",
      "text/plain": [
       "<matplotlib.figure.Figure at 0x110d09198>"
      ]
     },
     "metadata": {},
     "output_type": "display_data"
    }
   ],
   "source": [
    "cube_show_slider(img)"
   ]
  },
  {
   "cell_type": "code",
   "execution_count": null,
   "metadata": {
    "collapsed": true
   },
   "outputs": [],
   "source": []
  }
 ],
 "metadata": {
  "kernelspec": {
   "display_name": "Python 3",
   "language": "python",
   "name": "python3"
  },
  "language_info": {
   "codemirror_mode": {
    "name": "ipython",
    "version": 3
   },
   "file_extension": ".py",
   "mimetype": "text/x-python",
   "name": "python",
   "nbconvert_exporter": "python",
   "pygments_lexer": "ipython3",
   "version": "3.6.0"
  }
 },
 "nbformat": 4,
 "nbformat_minor": 2
}
