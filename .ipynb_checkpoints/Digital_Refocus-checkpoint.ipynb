{
 "cells": [
  {
   "cell_type": "markdown",
   "metadata": {},
   "source": [
    "# Digital Holographic Refocusing\n",
    "Written by Kristina Monakhova for BioE168 Fall 2017\n",
    "\n",
    "Simple digital refocusing using a Fresnel Kernel based on Goodman's Fourier Optics.  You can specify the image path, system parameters, and the desired defocus distance.  This script will refocus the image for you and show you an animation of the refocusing. There are two different modes to run this simulation:  Experimental or Simulated.\n",
    "\n",
    "#### Experimental:\n",
    "Place your defocused image in the images folder and change 'image_path' to link to your image.  Change 'focused_path' to link to your focused image for comparison.  Change the system parameters to match your microscope setup. Change 'z_defocus_guess' to match how much you think your image is defocused (um). The simulation will refocus your image by z_defocus_guess, show a focus metric based on an L1 norm, and play an animation showing your defocused image coming into focus\n",
    "\n",
    "#### Simulated:\n",
    "Place an image that you would like to propagate in the images folder and link to your image in 'simulated_image_path'.  Change 'z_defocus_guess' to the amount (um) that you would like to defocus by.  The simualation will propgate your desired image by this amount and show an animation of this propagation.  "
   ]
  },
  {
   "cell_type": "markdown",
   "metadata": {},
   "source": [
    "### Initializations"
   ]
  },
  {
   "cell_type": "code",
   "execution_count": 6,
   "metadata": {
    "collapsed": false
   },
   "outputs": [],
   "source": [
    "%matplotlib inline                         \n",
    "import numpy as np                         # Numpy \n",
    "import matplotlib.pyplot as plt            # For making figures\n",
    "import numpy.fft as fft                    # FFTs\n",
    "from scipy import misc\n",
    "from scipy import ndimage\n",
    "import myfunctions as mf                   # Custom functions"
   ]
  },
  {
   "cell_type": "markdown",
   "metadata": {},
   "source": [
    "### Options"
   ]
  },
  {
   "cell_type": "code",
   "execution_count": 7,
   "metadata": {
    "collapsed": true
   },
   "outputs": [],
   "source": [
    "# Define Image paths: \n",
    "image_path = 'images/laserTarget_8.tif'\n",
    "focused_path = 'images/laserTarget_0.tif'\n",
    "simulated_image_path = 'images/testdog.png'\n",
    "\n",
    "# Options\n",
    "mode = 'Experimental'          # Modes: 'Simulated' or 'Experimental'\n",
    "determine_best_focus = False    # Find the best focal plane\n",
    "\n",
    "# System parameters \n",
    "d_pix = 5.4             # um/pixel (on camera sensor)\n",
    "M = 8.0                 # System magnification \n",
    "dx = d_pix/M            # um/pixel with magnification \n",
    "lmda = 0.530            # wavelength of light (um) \n",
    "k = 2.0*np.pi/lmda      # wave number \n",
    "z_defocus_guess = 317.0 # defocus (um)\n",
    "zs = np.zeros(1); zs[0] = z_defocus_guess"
   ]
  },
  {
   "cell_type": "markdown",
   "metadata": {},
   "source": [
    "### Read in Files and Digitally Refocus"
   ]
  },
  {
   "cell_type": "code",
   "execution_count": 8,
   "metadata": {
    "collapsed": false
   },
   "outputs": [
    {
     "ename": "AttributeError",
     "evalue": "module 'display' has no attribute 'rgb2gray'",
     "output_type": "error",
     "traceback": [
      "\u001b[0;31m---------------------------------------------------------------------------\u001b[0m",
      "\u001b[0;31mAttributeError\u001b[0m                            Traceback (most recent call last)",
      "\u001b[0;32m<ipython-input-8-9710f49f554b>\u001b[0m in \u001b[0;36m<module>\u001b[0;34m()\u001b[0m\n\u001b[1;32m      1\u001b[0m \u001b[0;31m# Read in Images\u001b[0m\u001b[0;34m\u001b[0m\u001b[0;34m\u001b[0m\u001b[0m\n\u001b[1;32m      2\u001b[0m \u001b[0;32mif\u001b[0m \u001b[0mmode\u001b[0m \u001b[0;34m==\u001b[0m \u001b[0;34m'Experimental'\u001b[0m\u001b[0;34m:\u001b[0m\u001b[0;34m\u001b[0m\u001b[0m\n\u001b[0;32m----> 3\u001b[0;31m     \u001b[0mimage\u001b[0m \u001b[0;34m=\u001b[0m \u001b[0mmf\u001b[0m\u001b[0;34m.\u001b[0m\u001b[0mrgb2gray\u001b[0m\u001b[0;34m(\u001b[0m\u001b[0mnp\u001b[0m\u001b[0;34m.\u001b[0m\u001b[0mdouble\u001b[0m\u001b[0;34m(\u001b[0m\u001b[0mmisc\u001b[0m\u001b[0;34m.\u001b[0m\u001b[0mimread\u001b[0m\u001b[0;34m(\u001b[0m\u001b[0mimage_path\u001b[0m\u001b[0;34m)\u001b[0m\u001b[0;34m)\u001b[0m\u001b[0;34m)\u001b[0m            \u001b[0;31m# Read in defocused image\u001b[0m\u001b[0;34m\u001b[0m\u001b[0m\n\u001b[0m\u001b[1;32m      4\u001b[0m     \u001b[0mi_focused\u001b[0m \u001b[0;34m=\u001b[0m \u001b[0mmf\u001b[0m\u001b[0;34m.\u001b[0m\u001b[0mrgb2gray\u001b[0m\u001b[0;34m(\u001b[0m\u001b[0mnp\u001b[0m\u001b[0;34m.\u001b[0m\u001b[0mdouble\u001b[0m\u001b[0;34m(\u001b[0m\u001b[0mmisc\u001b[0m\u001b[0;34m.\u001b[0m\u001b[0mimread\u001b[0m\u001b[0;34m(\u001b[0m\u001b[0mfocused_path\u001b[0m\u001b[0;34m)\u001b[0m\u001b[0;34m)\u001b[0m\u001b[0;34m)\u001b[0m      \u001b[0;31m# Read in focused image\u001b[0m\u001b[0;34m\u001b[0m\u001b[0m\n\u001b[1;32m      5\u001b[0m \u001b[0;34m\u001b[0m\u001b[0m\n",
      "\u001b[0;31mAttributeError\u001b[0m: module 'display' has no attribute 'rgb2gray'"
     ]
    }
   ],
   "source": [
    "# Read in Images   \n",
    "if mode == 'Experimental':\n",
    "    image = mf.rgb2gray(np.double(misc.imread(image_path)))            # Read in defocused image\n",
    "    i_focused = mf.rgb2gray(np.double(misc.imread(focused_path)))      # Read in focused image\n",
    "\n",
    "    # Crop image to square \n",
    "    N_size = image.shape[0]; x1 = 0; y1 = 0;                           # Starting index for image cropping \n",
    "    i_crop = image[x1:x1+N_size,y1:y1+N_size]\n",
    "    i_fcrop = i_focused[x1:x1+N_size,y1:y1+N_size]\n",
    "    \n",
    "    g_in = np.sqrt(i_crop)                                             # complex field is the sqrt of the image\n",
    "    [g_out,H, f_metric] = mf.propagate(g_in, lmda, zs, dx)             # Propagate field \n",
    "\n",
    "    # Plot results\n",
    "    f, axs = plt.subplots(2,2,figsize=(15,10))\n",
    "    plt.subplot(2,2,1); plt.imshow(i_crop, cmap='gray'); \n",
    "    plt.title('Defocused Image');\n",
    "    plt.subplot(2,2,2); plt.imshow(np.abs(g_out[:,:,0]), cmap='gray'); \n",
    "    plt.title('Digitally Refocused Image');\n",
    "    plt.subplot(2,2,3); plt.imshow(i_fcrop, cmap='gray'); \n",
    "    plt.title('Manually Focused Image');\n",
    "    plt.subplot(2,2,4); plt.imshow(np.abs(np.angle(H[:,:,0])), cmap='gray'); \n",
    "    plt.title('Fresnel Kernel');\n",
    "    \n",
    "elif mode == 'Simulated':\n",
    "    g_in = mf.rgb2gray(np.double(misc.imread(simulated_image_path)))   # Read in image\n",
    "    [g_out,H, f_metric] = mf.propagate(g_in, lmda, zs, dx)             # Propagate field by zs\n",
    "    \n",
    "    # Plot results\n",
    "    f, axs = plt.subplots(1,2,figsize=(15,10))\n",
    "    plt.subplot(1,2,1); plt.imshow(g_in, cmap='gray'); \n",
    "    plt.title('Original Field');\n",
    "    plt.subplot(1,2,2); plt.imshow(np.abs(g_out[:,:,0]), cmap='gray'); \n",
    "    plt.title('Propagated Field');"
   ]
  },
  {
   "cell_type": "code",
   "execution_count": 9,
   "metadata": {
    "collapsed": true
   },
   "outputs": [],
   "source": [
    "# Sweep different focus distances to determine the best focus\n",
    "if determine_best_focus == True:\n",
    "\n",
    "    zs = np.arange(z_defocus_guess-15, z_defocus_guess+15, 1)\n",
    "    [g_out,H, f_metric] = mf.propagate(g_in, lmda, zs, dx)\n",
    "\n",
    "    plt.plot(zs, np.abs(f_metric)/np.max(np.abs(f_metric)));\n",
    "    plt.title('Focus Metric');\n",
    "    plt.xlabel('Decfocus distance (um)');\n",
    "\n",
    "    z_focus = zs[np.argmax(f_metric)]\n",
    "    print('The best focus distance is: ', z_focus)\n",
    "    "
   ]
  },
  {
   "cell_type": "markdown",
   "metadata": {},
   "source": [
    "## Play animation showing defocus "
   ]
  },
  {
   "cell_type": "code",
   "execution_count": 10,
   "metadata": {
    "collapsed": false
   },
   "outputs": [
    {
     "ename": "AttributeError",
     "evalue": "module 'display' has no attribute 'propagate'",
     "output_type": "error",
     "traceback": [
      "\u001b[0;31m---------------------------------------------------------------------------\u001b[0m",
      "\u001b[0;31mAttributeError\u001b[0m                            Traceback (most recent call last)",
      "\u001b[0;32m<ipython-input-10-c624948f3ccb>\u001b[0m in \u001b[0;36m<module>\u001b[0;34m()\u001b[0m\n\u001b[1;32m      1\u001b[0m \u001b[0mdz\u001b[0m \u001b[0;34m=\u001b[0m \u001b[0;36m5.0\u001b[0m                                                  \u001b[0;31m# Step size for z sweep\u001b[0m\u001b[0;34m\u001b[0m\u001b[0m\n\u001b[1;32m      2\u001b[0m \u001b[0mzs\u001b[0m \u001b[0;34m=\u001b[0m \u001b[0mnp\u001b[0m\u001b[0;34m.\u001b[0m\u001b[0marange\u001b[0m\u001b[0;34m(\u001b[0m\u001b[0;36m0.0\u001b[0m\u001b[0;34m,\u001b[0m \u001b[0mz_defocus_guess\u001b[0m\u001b[0;34m,\u001b[0m \u001b[0mdz\u001b[0m\u001b[0;34m)\u001b[0m                  \u001b[0;31m# z distances for animation\u001b[0m\u001b[0;34m\u001b[0m\u001b[0m\n\u001b[0;32m----> 3\u001b[0;31m \u001b[0;34m[\u001b[0m\u001b[0mg_out\u001b[0m\u001b[0;34m,\u001b[0m\u001b[0mH\u001b[0m\u001b[0;34m,\u001b[0m \u001b[0mf_metric\u001b[0m\u001b[0;34m]\u001b[0m \u001b[0;34m=\u001b[0m \u001b[0mmf\u001b[0m\u001b[0;34m.\u001b[0m\u001b[0mpropagate\u001b[0m\u001b[0;34m(\u001b[0m\u001b[0mg_in\u001b[0m\u001b[0;34m,\u001b[0m \u001b[0mlmda\u001b[0m\u001b[0;34m,\u001b[0m \u001b[0mzs\u001b[0m\u001b[0;34m,\u001b[0m \u001b[0mdx\u001b[0m\u001b[0;34m)\u001b[0m    \u001b[0;31m# Propagate field\u001b[0m\u001b[0;34m\u001b[0m\u001b[0m\n\u001b[0m\u001b[1;32m      4\u001b[0m \u001b[0mmf\u001b[0m\u001b[0;34m.\u001b[0m\u001b[0minteractive_slider\u001b[0m\u001b[0;34m(\u001b[0m\u001b[0mnp\u001b[0m\u001b[0;34m.\u001b[0m\u001b[0mabs\u001b[0m\u001b[0;34m(\u001b[0m\u001b[0mg_out\u001b[0m\u001b[0;34m)\u001b[0m\u001b[0;34m,\u001b[0m \u001b[0;34m'Fresnel'\u001b[0m\u001b[0;34m)\u001b[0m           \u001b[0;31m# Make interactie slider\u001b[0m\u001b[0;34m\u001b[0m\u001b[0m\n",
      "\u001b[0;31mAttributeError\u001b[0m: module 'display' has no attribute 'propagate'"
     ]
    }
   ],
   "source": [
    "dz = 5.0                                                  # Step size for z sweep \n",
    "zs = np.arange(0.0, z_defocus_guess, dz)                  # z distances for animation \n",
    "[g_out,H, f_metric] = mf.propagate(g_in, lmda, zs, dx)    # Propagate field \n",
    "mf.interactive_slider(np.abs(g_out), 'Fresnel')           # Make interactie slider"
   ]
  },
  {
   "cell_type": "code",
   "execution_count": 11,
   "metadata": {
    "collapsed": false
   },
   "outputs": [
    {
     "ename": "NameError",
     "evalue": "name 'g_out' is not defined",
     "output_type": "error",
     "traceback": [
      "\u001b[0;31m---------------------------------------------------------------------------\u001b[0m",
      "\u001b[0;31mNameError\u001b[0m                                 Traceback (most recent call last)",
      "\u001b[0;32m<ipython-input-11-f6fd7d65e22b>\u001b[0m in \u001b[0;36m<module>\u001b[0;34m()\u001b[0m\n\u001b[0;32m----> 1\u001b[0;31m \u001b[0mmf\u001b[0m\u001b[0;34m.\u001b[0m\u001b[0mimshowAnim\u001b[0m\u001b[0;34m(\u001b[0m\u001b[0mnp\u001b[0m\u001b[0;34m.\u001b[0m\u001b[0mabs\u001b[0m\u001b[0;34m(\u001b[0m\u001b[0mg_out\u001b[0m\u001b[0;34m)\u001b[0m\u001b[0;34m,\u001b[0m \u001b[0mzs\u001b[0m\u001b[0;34m,\u001b[0m \u001b[0mg_out\u001b[0m\u001b[0;34m.\u001b[0m\u001b[0mshape\u001b[0m\u001b[0;34m[\u001b[0m\u001b[0;36m2\u001b[0m\u001b[0;34m]\u001b[0m\u001b[0;34m,\u001b[0m \u001b[0;36m5\u001b[0m\u001b[0;34m)\u001b[0m \u001b[0;31m# Make video\u001b[0m\u001b[0;34m\u001b[0m\u001b[0m\n\u001b[0m",
      "\u001b[0;31mNameError\u001b[0m: name 'g_out' is not defined"
     ]
    }
   ],
   "source": [
    "mf.imshowAnim(np.abs(g_out), zs, g_out.shape[2], 5) # Make video"
   ]
  },
  {
   "cell_type": "code",
   "execution_count": null,
   "metadata": {
    "collapsed": true
   },
   "outputs": [],
   "source": []
  }
 ],
 "metadata": {
  "kernelspec": {
   "display_name": "Python 3",
   "language": "python",
   "name": "python3"
  },
  "language_info": {
   "codemirror_mode": {
    "name": "ipython",
    "version": 3
   },
   "file_extension": ".py",
   "mimetype": "text/x-python",
   "name": "python",
   "nbconvert_exporter": "python",
   "pygments_lexer": "ipython3",
   "version": "3.6.0"
  }
 },
 "nbformat": 4,
 "nbformat_minor": 2
}
