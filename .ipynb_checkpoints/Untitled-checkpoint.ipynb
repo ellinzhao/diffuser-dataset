{
 "cells": [
  {
   "cell_type": "code",
   "execution_count": 32,
   "metadata": {
    "collapsed": true
   },
   "outputs": [],
   "source": [
    "\n",
    "import numpy as np\n",
    "import os, subprocess, glob\n",
    "from matplotlib import pyplot as plt\n",
    "# from scipy import ndimage\n",
    "import myfunctions as funcs\n",
    "import matplotlib.cm as cm\n"
   ]
  },
  {
   "cell_type": "code",
   "execution_count": 33,
   "metadata": {
    "collapsed": true
   },
   "outputs": [],
   "source": [
    "\n",
    "def gen_3d_points(n, r, k):\n",
    "    \"\"\"\n",
    "    n = dim of the image.\n",
    "    r = max radius of point.\n",
    "    k = num of random points.\n",
    "    all params >= 1.\n",
    "    \"\"\"\n",
    "    arr = np.zeros((n, n, n))\n",
    "    print(\"done initializing\")\n",
    "    for _ in range(k):\n",
    "        a = np.random.randint(n/4, 3*n/4)\n",
    "        b = np.random.randint(n/4, 3*n/4)\n",
    "        c = np.random.randint(n/4, 3*n/4)\n",
    "        r1 = np.random.randint(r/2, r)\n",
    "        print(a, b, c, r1)\n",
    "        x, y, z = np.ogrid[-a:n-a, -b:n-b, -c:n-c]\n",
    "        # creating mask with radius r1-i\n",
    "        mask = x*x + y*y + z*z <= (r1)*(r1)\n",
    "        arr[mask] = 255\n",
    "        print(\"done making 1 point\")\n",
    "    return arr\n"
   ]
  },
  {
   "cell_type": "code",
   "execution_count": 41,
   "metadata": {
    "collapsed": false
   },
   "outputs": [
    {
     "name": "stdout",
     "output_type": "stream",
     "text": [
      "done initializing\n",
      "6 2 5 3\n",
      "done making 1 point\n",
      "[[[   0.    0.    0.    0.    0.    0.    0.    0.    0.    0.]\n",
      "  [   0.    0.    0.    0.    0.    0.    0.    0.    0.    0.]\n",
      "  [   0.    0.    0.    0.    0.    0.    0.    0.    0.    0.]\n",
      "  [   0.    0.    0.    0.    0.    0.    0.    0.    0.    0.]\n",
      "  [   0.    0.    0.    0.    0.    0.    0.    0.    0.    0.]\n",
      "  [   0.    0.    0.    0.    0.    0.    0.    0.    0.    0.]\n",
      "  [   0.    0.    0.    0.    0.    0.    0.    0.    0.    0.]\n",
      "  [   0.    0.    0.    0.    0.    0.    0.    0.    0.    0.]\n",
      "  [   0.    0.    0.    0.    0.    0.    0.    0.    0.    0.]\n",
      "  [   0.    0.    0.    0.    0.    0.    0.    0.    0.    0.]]\n",
      "\n",
      " [[   0.    0.    0.    0.    0.    0.    0.    0.    0.    0.]\n",
      "  [   0.    0.    0.    0.    0.    0.    0.    0.    0.    0.]\n",
      "  [   0.    0.    0.    0.    0.    0.    0.    0.    0.    0.]\n",
      "  [   0.    0.    0.    0.    0.    0.    0.    0.    0.    0.]\n",
      "  [   0.    0.    0.    0.    0.    0.    0.    0.    0.    0.]\n",
      "  [   0.    0.    0.    0.    0.    0.    0.    0.    0.    0.]\n",
      "  [   0.    0.    0.    0.    0.    0.    0.    0.    0.    0.]\n",
      "  [   0.    0.    0.    0.    0.    0.    0.    0.    0.    0.]\n",
      "  [   0.    0.    0.    0.    0.    0.    0.    0.    0.    0.]\n",
      "  [   0.    0.    0.    0.    0.    0.    0.    0.    0.    0.]]\n",
      "\n",
      " [[   0.    0.    0.    0.    0.    0.    0.    0.    0.    0.]\n",
      "  [   0.    0.    0.    0.    0.    0.    0.    0.    0.    0.]\n",
      "  [   0.    0.    0.    0.    0.    0.    0.    0.    0.    0.]\n",
      "  [   0.    0.    0.    0.    0.    0.    0.    0.    0.    0.]\n",
      "  [   0.    0.    0.    0.    0.    0.    0.    0.    0.    0.]\n",
      "  [   0.    0.    0.    0.    0.    0.    0.    0.    0.    0.]\n",
      "  [   0.    0.    0.    0.    0.    0.    0.    0.    0.    0.]\n",
      "  [   0.    0.    0.    0.    0.    0.    0.    0.    0.    0.]\n",
      "  [   0.    0.    0.    0.    0.    0.    0.    0.    0.    0.]\n",
      "  [   0.    0.    0.    0.    0.    0.    0.    0.    0.    0.]]\n",
      "\n",
      " [[   0.    0.    0.    0.    0.    0.    0.    0.    0.    0.]\n",
      "  [   0.    0.    0.    0.    0.    0.    0.    0.    0.    0.]\n",
      "  [   0.    0.    0.    0.    0.  255.    0.    0.    0.    0.]\n",
      "  [   0.    0.    0.    0.    0.    0.    0.    0.    0.    0.]\n",
      "  [   0.    0.    0.    0.    0.    0.    0.    0.    0.    0.]\n",
      "  [   0.    0.    0.    0.    0.    0.    0.    0.    0.    0.]\n",
      "  [   0.    0.    0.    0.    0.    0.    0.    0.    0.    0.]\n",
      "  [   0.    0.    0.    0.    0.    0.    0.    0.    0.    0.]\n",
      "  [   0.    0.    0.    0.    0.    0.    0.    0.    0.    0.]\n",
      "  [   0.    0.    0.    0.    0.    0.    0.    0.    0.    0.]]\n",
      "\n",
      " [[   0.    0.    0.    0.  255.  255.  255.    0.    0.    0.]\n",
      "  [   0.    0.    0.  255.  255.  255.  255.  255.    0.    0.]\n",
      "  [   0.    0.    0.  255.  255.  255.  255.  255.    0.    0.]\n",
      "  [   0.    0.    0.  255.  255.  255.  255.  255.    0.    0.]\n",
      "  [   0.    0.    0.    0.  255.  255.  255.    0.    0.    0.]\n",
      "  [   0.    0.    0.    0.    0.    0.    0.    0.    0.    0.]\n",
      "  [   0.    0.    0.    0.    0.    0.    0.    0.    0.    0.]\n",
      "  [   0.    0.    0.    0.    0.    0.    0.    0.    0.    0.]\n",
      "  [   0.    0.    0.    0.    0.    0.    0.    0.    0.    0.]\n",
      "  [   0.    0.    0.    0.    0.    0.    0.    0.    0.    0.]]\n",
      "\n",
      " [[   0.    0.    0.  255.  255.  255.  255.  255.    0.    0.]\n",
      "  [   0.    0.    0.  255.  255.  255.  255.  255.    0.    0.]\n",
      "  [   0.    0.    0.  255.  255.  255.  255.  255.    0.    0.]\n",
      "  [   0.    0.    0.  255.  255.  255.  255.  255.    0.    0.]\n",
      "  [   0.    0.    0.  255.  255.  255.  255.  255.    0.    0.]\n",
      "  [   0.    0.    0.    0.    0.    0.    0.    0.    0.    0.]\n",
      "  [   0.    0.    0.    0.    0.    0.    0.    0.    0.    0.]\n",
      "  [   0.    0.    0.    0.    0.    0.    0.    0.    0.    0.]\n",
      "  [   0.    0.    0.    0.    0.    0.    0.    0.    0.    0.]\n",
      "  [   0.    0.    0.    0.    0.    0.    0.    0.    0.    0.]]\n",
      "\n",
      " [[   0.    0.    0.  255.  255.  255.  255.  255.    0.    0.]\n",
      "  [   0.    0.    0.  255.  255.  255.  255.  255.    0.    0.]\n",
      "  [   0.    0.  255.  255.  255.  255.  255.  255.  255.    0.]\n",
      "  [   0.    0.    0.  255.  255.  255.  255.  255.    0.    0.]\n",
      "  [   0.    0.    0.  255.  255.  255.  255.  255.    0.    0.]\n",
      "  [   0.    0.    0.    0.    0.  255.    0.    0.    0.    0.]\n",
      "  [   0.    0.    0.    0.    0.    0.    0.    0.    0.    0.]\n",
      "  [   0.    0.    0.    0.    0.    0.    0.    0.    0.    0.]\n",
      "  [   0.    0.    0.    0.    0.    0.    0.    0.    0.    0.]\n",
      "  [   0.    0.    0.    0.    0.    0.    0.    0.    0.    0.]]\n",
      "\n",
      " [[   0.    0.    0.  255.  255.  255.  255.  255.    0.    0.]\n",
      "  [   0.    0.    0.  255.  255.  255.  255.  255.    0.    0.]\n",
      "  [   0.    0.    0.  255.  255.  255.  255.  255.    0.    0.]\n",
      "  [   0.    0.    0.  255.  255.  255.  255.  255.    0.    0.]\n",
      "  [   0.    0.    0.  255.  255.  255.  255.  255.    0.    0.]\n",
      "  [   0.    0.    0.    0.    0.    0.    0.    0.    0.    0.]\n",
      "  [   0.    0.    0.    0.    0.    0.    0.    0.    0.    0.]\n",
      "  [   0.    0.    0.    0.    0.    0.    0.    0.    0.    0.]\n",
      "  [   0.    0.    0.    0.    0.    0.    0.    0.    0.    0.]\n",
      "  [   0.    0.    0.    0.    0.    0.    0.    0.    0.    0.]]\n",
      "\n",
      " [[   0.    0.    0.    0.  255.  255.  255.    0.    0.    0.]\n",
      "  [   0.    0.    0.  255.  255.  255.  255.  255.    0.    0.]\n",
      "  [   0.    0.    0.  255.  255.  255.  255.  255.    0.    0.]\n",
      "  [   0.    0.    0.  255.  255.  255.  255.  255.    0.    0.]\n",
      "  [   0.    0.    0.    0.  255.  255.  255.    0.    0.    0.]\n",
      "  [   0.    0.    0.    0.    0.    0.    0.    0.    0.    0.]\n",
      "  [   0.    0.    0.    0.    0.    0.    0.    0.    0.    0.]\n",
      "  [   0.    0.    0.    0.    0.    0.    0.    0.    0.    0.]\n",
      "  [   0.    0.    0.    0.    0.    0.    0.    0.    0.    0.]\n",
      "  [   0.    0.    0.    0.    0.    0.    0.    0.    0.    0.]]\n",
      "\n",
      " [[   0.    0.    0.    0.    0.    0.    0.    0.    0.    0.]\n",
      "  [   0.    0.    0.    0.    0.    0.    0.    0.    0.    0.]\n",
      "  [   0.    0.    0.    0.    0.  255.    0.    0.    0.    0.]\n",
      "  [   0.    0.    0.    0.    0.    0.    0.    0.    0.    0.]\n",
      "  [   0.    0.    0.    0.    0.    0.    0.    0.    0.    0.]\n",
      "  [   0.    0.    0.    0.    0.    0.    0.    0.    0.    0.]\n",
      "  [   0.    0.    0.    0.    0.    0.    0.    0.    0.    0.]\n",
      "  [   0.    0.    0.    0.    0.    0.    0.    0.    0.    0.]\n",
      "  [   0.    0.    0.    0.    0.    0.    0.    0.    0.    0.]\n",
      "  [   0.    0.    0.    0.    0.    0.    0.    0.    0.    0.]]]\n"
     ]
    }
   ],
   "source": [
    "img = gen_3d_points(10, 4, 1)\n",
    "print(img)\n"
   ]
  },
  {
   "cell_type": "code",
   "execution_count": 40,
   "metadata": {
    "collapsed": false
   },
   "outputs": [
    {
     "data": {
      "text/html": [
       "<video width=\"400\" height=\"400\" controls autoplay loop>\n",
       "  <source type=\"video/mp4\" src=\"data:video/mp4;base64,AAAAHGZ0eXBNNFYgAAACAGlzb21pc28yYXZjMQAAAAhmcmVlAAAE9W1kYXQAAAKuBgX//6rcRem9\n",
       "5tlIt5Ys2CDZI+7veDI2NCAtIGNvcmUgMTUyIHIyODU0IGU5YTU5MDMgLSBILjI2NC9NUEVHLTQg\n",
       "QVZDIGNvZGVjIC0gQ29weWxlZnQgMjAwMy0yMDE3IC0gaHR0cDovL3d3dy52aWRlb2xhbi5vcmcv\n",
       "eDI2NC5odG1sIC0gb3B0aW9uczogY2FiYWM9MSByZWY9MyBkZWJsb2NrPTE6MDowIGFuYWx5c2U9\n",
       "MHgzOjB4MTEzIG1lPWhleCBzdWJtZT03IHBzeT0xIHBzeV9yZD0xLjAwOjAuMDAgbWl4ZWRfcmVm\n",
       "PTEgbWVfcmFuZ2U9MTYgY2hyb21hX21lPTEgdHJlbGxpcz0xIDh4OGRjdD0xIGNxbT0wIGRlYWR6\n",
       "b25lPTIxLDExIGZhc3RfcHNraXA9MSBjaHJvbWFfcXBfb2Zmc2V0PS0yIHRocmVhZHM9NiBsb29r\n",
       "YWhlYWRfdGhyZWFkcz0xIHNsaWNlZF90aHJlYWRzPTAgbnI9MCBkZWNpbWF0ZT0xIGludGVybGFj\n",
       "ZWQ9MCBibHVyYXlfY29tcGF0PTAgY29uc3RyYWluZWRfaW50cmE9MCBiZnJhbWVzPTMgYl9weXJh\n",
       "bWlkPTIgYl9hZGFwdD0xIGJfYmlhcz0wIGRpcmVjdD0xIHdlaWdodGI9MSBvcGVuX2dvcD0wIHdl\n",
       "aWdodHA9MiBrZXlpbnQ9MjUwIGtleWludF9taW49MTAgc2NlbmVjdXQ9NDAgaW50cmFfcmVmcmVz\n",
       "aD0wIHJjX2xvb2thaGVhZD00MCByYz1jcmYgbWJ0cmVlPTEgY3JmPTIzLjAgcWNvbXA9MC42MCBx\n",
       "cG1pbj0wIHFwbWF4PTY5IHFwc3RlcD00IGlwX3JhdGlvPTEuNDAgYXE9MToxLjAwAIAAAAGMZYiE\n",
       "ABH//veIHzLLafk613IR560urR9Q7kZxXqS9/iAAAAMCyAr7sd/grsd/+Cjf4AGm5kBWhODoa0PW\n",
       "v6JI3DV+6ARZJ5LQONUPbSLpPY9NQZ0593wnZv5zhJk8lInii9ztcnf1tqUe4rAoaLUIvVKBGgwz\n",
       "0u6Bbq/2MwdfKXxq++6bismQYEZ6Sv4MObvG0zQ/eUhP/DKzkrM09nXj/6ZMAAHqT6hUwaQ00CUm\n",
       "YAN8+1wIgWg+QDfYgZsUq55JBqqAilO823csXGhIC87IX3bdiKmT33m4FKniJi/bPrbJ5WszvCLH\n",
       "i+MBNg6Cu+w32zcf0ZqaAS2IKvnwyugt9onJ+2ci4mpF8VmvhBs+XaZyvQ8KKzqzP/EFlzgSKRbX\n",
       "qwRcBBQRwLQQ+tZ/wDLho2KdFJ2Ej2OSGmNKjaM+E2gEVUdevDoAABWgBaAAAAMAAAMAAAMAAAMA\n",
       "AAMAAAMAAAMB56viG68lckKbqvM4uGL8GcTAKkov1ZFIw3IhBTsaXmHoAEhnHxEAAHrBAAAAE0Ga\n",
       "JGxBD/6qVQAAAwALN8/iSZwAAAAMQZ5CeId/AAADAANrAAAADAGeYXRDfwAAAwAE3AAAAAwBnmNq\n",
       "Q38AAAMABN0AAAAVQZpoSahBaJlMCHf//qmWAAADAAbVAAAADkGehkURLDv/AAADAANrAAAADAGe\n",
       "pXRDfwAAAwAE3QAAAAwBnqdqQ38AAAMABNwAAAAVQZqpSahBbJlMCG///qeEAAADAA2YAAADpm1v\n",
       "b3YAAABsbXZoZAAAAAAAAAAAAAAAAAAAA+gAAAPoAAEAAAEAAAAAAAAAAAAAAAABAAAAAAAAAAAA\n",
       "AAAAAAAAAQAAAAAAAAAAAAAAAAAAQAAAAAAAAAAAAAAAAAAAAAAAAAAAAAAAAAAAAAAAAAIAAALQ\n",
       "dHJhawAAAFx0a2hkAAAAAwAAAAAAAAAAAAAAAQAAAAAAAAPoAAAAAAAAAAAAAAAAAAAAAAABAAAA\n",
       "AAAAAAAAAAAAAAAAAQAAAAAAAAAAAAAAAAAAQAAAAAGQAAABkAAAAAAAJGVkdHMAAAAcZWxzdAAA\n",
       "AAAAAAABAAAD6AAACAAAAQAAAAACSG1kaWEAAAAgbWRoZAAAAAAAAAAAAAAAAAAAKAAAACgAVcQA\n",
       "AAAAAC1oZGxyAAAAAAAAAAB2aWRlAAAAAAAAAAAAAAAAVmlkZW9IYW5kbGVyAAAAAfNtaW5mAAAA\n",
       "FHZtaGQAAAABAAAAAAAAAAAAAAAkZGluZgAAABxkcmVmAAAAAAAAAAEAAAAMdXJsIAAAAAEAAAGz\n",
       "c3RibAAAALNzdHNkAAAAAAAAAAEAAACjYXZjMQAAAAAAAAABAAAAAAAAAAAAAAAAAAAAAAGQAZAA\n",
       "SAAAAEgAAAAAAAAAAQAAAAAAAAAAAAAAAAAAAAAAAAAAAAAAAAAAAAAAAAAAABj//wAAADFhdmND\n",
       "AWQAFf/hABhnZAAVrNlBkM6EAAADAAQAAAMAUDxYtlgBAAZo6+PLIsAAAAAcdXVpZGtoQPJfJE/F\n",
       "ujmlG88DI/MAAAAAAAAAGHN0dHMAAAAAAAAAAQAAAAoAAAQAAAAAFHN0c3MAAAAAAAAAAQAAAAEA\n",
       "AABgY3R0cwAAAAAAAAAKAAAAAQAACAAAAAABAAAUAAAAAAEAAAgAAAAAAQAAAAAAAAABAAAEAAAA\n",
       "AAEAABQAAAAAAQAACAAAAAABAAAAAAAAAAEAAAQAAAAAAQAACAAAAAAcc3RzYwAAAAAAAAABAAAA\n",
       "AQAAAAoAAAABAAAAPHN0c3oAAAAAAAAAAAAAAAoAAARCAAAAFwAAABAAAAAQAAAAEAAAABkAAAAS\n",
       "AAAAEAAAABAAAAAZAAAAFHN0Y28AAAAAAAAAAQAAACwAAABidWR0YQAAAFptZXRhAAAAAAAAACFo\n",
       "ZGxyAAAAAAAAAABtZGlyYXBwbAAAAAAAAAAAAAAAAC1pbHN0AAAAJal0b28AAAAdZGF0YQAAAAEA\n",
       "AAAATGF2ZjU3LjgzLjEwMA==\n",
       "\">\n",
       "  Your browser does not support the video tag.\n",
       "</video>"
      ],
      "text/plain": [
       "<IPython.core.display.HTML object>"
      ]
     },
     "execution_count": 40,
     "metadata": {},
     "output_type": "execute_result"
    }
   ],
   "source": [
    "funcs.imshowAnim_edit(img, img.shape[2], 4)\n"
   ]
  },
  {
   "cell_type": "code",
   "execution_count": null,
   "metadata": {
    "collapsed": true
   },
   "outputs": [],
   "source": []
  }
 ],
 "metadata": {
  "kernelspec": {
   "display_name": "Python 3",
   "language": "python",
   "name": "python3"
  },
  "language_info": {
   "codemirror_mode": {
    "name": "ipython",
    "version": 3
   },
   "file_extension": ".py",
   "mimetype": "text/x-python",
   "name": "python",
   "nbconvert_exporter": "python",
   "pygments_lexer": "ipython3",
   "version": "3.6.0"
  }
 },
 "nbformat": 4,
 "nbformat_minor": 2
}
