{
 "cells": [
  {
   "cell_type": "code",
   "execution_count": 29,
   "metadata": {
    "collapsed": false
   },
   "outputs": [],
   "source": [
    "import os, subprocess, glob\n",
    "\n",
    "import numpy as np\n",
    "from matplotlib import pyplot as plt\n",
    "from scipy import ndimage\n",
    "\n",
    "import matplotlib.cm as cm\n",
    "%matplotlib inline\n"
   ]
  },
  {
   "cell_type": "code",
   "execution_count": 4,
   "metadata": {
    "collapsed": true
   },
   "outputs": [],
   "source": [
    "# not using this class for anything but it's a reference for refining the 3D image.\n",
    "\n",
    "class Img2D:\n",
    "    \n",
    "    def __init__(self, n, r, k):\n",
    "        self.n = n\n",
    "        self.r = r\n",
    "        self.k = k\n",
    "        self.arr, self.centers = self.gen_2d_points(n, r, k)\n",
    "\n",
    "    def gen_2d_points(self, n, r, k):\n",
    "        \"\"\"\n",
    "        n = dim of the image.\n",
    "        r = max radius of point.\n",
    "        k = num of random points.\n",
    "        all params >= 1.\n",
    "        \"\"\"\n",
    "        arr = np.ones((n, n))\n",
    "        centers = []\n",
    "        while k > 0:\n",
    "            a = np.random.randint(0, n)\n",
    "            b = np.random.randint(0, n)\n",
    "            centers += [(a, b)]\n",
    "            r1 = np.random.randint(r//2 + 1, r)\n",
    "            # (a, b) is center of point, r1 is radius for point. \n",
    "\n",
    "            y, x = np.ogrid[-a:n-a, -b:n-b]\n",
    "            mask = x*x + y*y <= r1*r1\n",
    "            arr[mask] = 255\n",
    "            k -= 1\n",
    "        return arr, centers\n",
    "    \n",
    "    def get_img(self):\n",
    "        # not filtered array\n",
    "        return self.arr\n",
    "    \n",
    "    def show_img(self):\n",
    "        img_filtered = ndimage.gaussian_filter(self.arr, sigma=7, order=0)\n",
    "        plt.imshow(img_filtered, cmap='gray', interpolation='nearest');\n",
    "        \n",
    "    def get_centers(self):\n",
    "        return self.centers\n",
    "    \n",
    "    def plt_x_section(self):\n",
    "        img_filtered = ndimage.gaussian_filter(self.arr, sigma=7, order=0)\n",
    "        x, y = self.centers[0]\n",
    "        start = -1\n",
    "        end = -1\n",
    "        prev = -1\n",
    "        prev = 100\n",
    "        for i in range(0, 500):\n",
    "            curr = img_filtered[x][i]\n",
    "            if start == -1 and prev == 1.0 and curr != 1.0:\n",
    "                start = i\n",
    "            elif start != -1 and end == -1 and prev != 1.0 and curr == 1.0:\n",
    "                end = i\n",
    "                break\n",
    "            prev = curr\n",
    "        plt.plot(img_filtered[x][start:end])\n",
    "        plt.show()\n"
   ]
  },
  {
   "cell_type": "code",
   "execution_count": null,
   "metadata": {
    "collapsed": true
   },
   "outputs": [],
   "source": []
  },
  {
   "cell_type": "code",
   "execution_count": 42,
   "metadata": {
    "collapsed": true
   },
   "outputs": [],
   "source": [
    "class Img3D:\n",
    "    \n",
    "    def __init__(self, n, r, k):\n",
    "        self.n = n\n",
    "        self.r = r\n",
    "        self.k = k\n",
    "        self.img_unfiltered, self.centers = self.gen_3d_points()\n",
    "        # Might need to change sigma based on n.\n",
    "        self.img_filtered = ndimage.gaussian_filter(self.img_unfiltered, sigma=7, order=0)\n",
    "        \n",
    "    def gen_3d_points(self):\n",
    "        \"\"\"\n",
    "        n = dim of the image.\n",
    "        r = max radius of point.\n",
    "        k = num of random points.\n",
    "        all params >= 1.\n",
    "        \"\"\"\n",
    "        arr = np.zeros((self.n, self.n, self.n))\n",
    "        centers = []\n",
    "        for _ in range(self.k):\n",
    "            a = np.random.randint(self.n//4, 3*self.n//4)\n",
    "            b = np.random.randint(self.n//4, 3*self.n//4)\n",
    "            # c = np.random.randint(self.n//4, 3*self.n//4)\n",
    "            c = n//2\n",
    "            centers += [(a, b, c)]\n",
    "            r1 = np.random.randint(self.r//2, self.r)\n",
    "            z, y, x = np.ogrid[-a:self.n-a, -b:self.n-b, -c:self.n-c]\n",
    "            mask = x*x + y*y + z*z <= r1*r1\n",
    "            arr[mask] = 255\n",
    "        return arr, centers\n",
    "\n",
    "    def show_img(self, filter_flag):\n",
    "        if filter_flag == 0:\n",
    "            plt.imshow(self.img_unfiltered[self.centers[0][0]], cmap='gray', interpolation='nearest');\n",
    "        elif filter_flag == 1:\n",
    "            plt.imshow(self.img_filtered[:,self.centers[0][0],:,:], cmap='gray', interpolation='nearest');\n",
    "  "
   ]
  },
  {
   "cell_type": "code",
   "execution_count": 43,
   "metadata": {
    "collapsed": false
   },
   "outputs": [],
   "source": [
    "img = Img3D(100, 20, 1)\n",
    "# (a, b, c)\n",
    "# a -> z axis\n",
    "# b -> "
   ]
  },
  {
   "cell_type": "code",
   "execution_count": 47,
   "metadata": {
    "collapsed": false,
    "scrolled": true
   },
   "outputs": [
    {
     "data": {
      "image/png": "[encoded data removed]",
      "text/plain": [
       "<matplotlib.figure.Figure at 0x119074ba8>"
      ]
     },
     "metadata": {},
     "output_type": "display_data"
    }
   ],
   "source": [
    "plt.imshow(img.img_filtered[img.centers[0][0],:,:], cmap='gray', interpolation='nearest');\n"
   ]
  },
  {
   "cell_type": "code",
   "execution_count": 49,
   "metadata": {
    "collapsed": false,
    "scrolled": true
   },
   "outputs": [
    {
     "data": {
      "image/png": "[encoded data removed]",
      "text/plain": [
       "<matplotlib.figure.Figure at 0x119120b00>"
      ]
     },
     "metadata": {},
     "output_type": "display_data"
    }
   ],
   "source": [
    "plt.imshow(img.img_filtered[:,img.centers[0][1],:], cmap='gray', interpolation='nearest');\n"
   ]
  },
  {
   "cell_type": "code",
   "execution_count": 50,
   "metadata": {
    "collapsed": false
   },
   "outputs": [
    {
     "data": {
      "image/png": "[encoded data removed]",
      "text/plain": [
       "<matplotlib.figure.Figure at 0x11946a240>"
      ]
     },
     "metadata": {},
     "output_type": "display_data"
    }
   ],
   "source": [
    "plt.imshow(img.img_filtered[:,:,img.centers[0][2]], cmap='gray', interpolation='nearest');"
   ]
  },
  {
   "cell_type": "code",
   "execution_count": null,
   "metadata": {
    "collapsed": true
   },
   "outputs": [],
   "source": [
    "self.img_filtered[self.centers[0][0],:,:] # xy plane\n",
    "\n",
    "self.img_filtered[:,self.centers[0][1],:,:] # xz plane\n",
    "\n",
    "self.img_filtered[:,:,self.centers[0][2]] # yz plane"
   ]
  },
  {
   "cell_type": "code",
   "execution_count": null,
   "metadata": {
    "collapsed": true
   },
   "outputs": [],
   "source": []
  }
 ],
 "metadata": {
  "kernelspec": {
   "display_name": "Python 3",
   "language": "python",
   "name": "python3"
  },
  "language_info": {
   "codemirror_mode": {
    "name": "ipython",
    "version": 3
   },
   "file_extension": ".py",
   "mimetype": "text/x-python",
   "name": "python",
   "nbconvert_exporter": "python",
   "pygments_lexer": "ipython3",
   "version": "3.6.0"
  }
 },
 "nbformat": 4,
 "nbformat_minor": 2
}
