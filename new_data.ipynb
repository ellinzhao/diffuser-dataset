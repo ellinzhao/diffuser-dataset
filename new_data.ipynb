{
 "cells": [
  {
   "cell_type": "markdown",
   "metadata": {},
   "source": [
    "- smaller radius, more blurred\n",
    "- https://www.tutorialspoint.com/dip/high_pass_vs_low_pass_filters.htm\n",
    "- http://opencv-python-tutroals.readthedocs.io/en/latest/py_tutorials/py_imgproc/py_transforms/py_fourier_transform/py_fourier_transform.html"
   ]
  },
  {
   "cell_type": "code",
   "execution_count": 2,
   "metadata": {},
   "outputs": [
    {
     "name": "stderr",
     "output_type": "stream",
     "text": [
      "/share/instsww/anaconda3/lib/python3.6/site-packages/matplotlib/font_manager.py:279: UserWarning: Matplotlib is building the font cache using fc-list. This may take a moment.\n",
      "  'Matplotlib is building the font cache using fc-list. '\n"
     ]
    }
   ],
   "source": [
    "import os, subprocess, glob\n",
    "\n",
    "import numpy as np\n",
    "from matplotlib import pyplot as plt\n",
    "from scipy import ndimage, fftpack, misc\n",
    "\n",
    "import matplotlib.cm as cm\n",
    "%matplotlib inline"
   ]
  },
  {
   "cell_type": "code",
   "execution_count": 3,
   "metadata": {
    "collapsed": true
   },
   "outputs": [],
   "source": [
    "# not using this class for anything but it's a reference for refining the 3D image.\n",
    "\n",
    "class Img2D:\n",
    "    \n",
    "    def __init__(self, n, r, k):\n",
    "        self.n = n\n",
    "        self.r = r\n",
    "        self.k = k\n",
    "        self.arr, self.centers = self.gen_2d_points(n, r, k)\n",
    "\n",
    "    def gen_2d_points(self, n, r, k):\n",
    "        \"\"\"\n",
    "        n = dim of the image.\n",
    "        r = max radius of point.\n",
    "        k = num of random points.\n",
    "        all params >= 1.\n",
    "        \"\"\"\n",
    "        arr = np.ones((n, n))\n",
    "        centers = []\n",
    "        while k > 0:\n",
    "            a = np.random.randint(0, n)\n",
    "            b = np.random.randint(0, n)\n",
    "            centers += [(a, b)]\n",
    "            r1 = np.random.randint(r//2 + 1, r)\n",
    "            # (a, b) is center of point, r1 is radius for point. \n",
    "\n",
    "            y, x = np.ogrid[-a:n-a, -b:n-b]\n",
    "            mask = x*x + y*y <= r1*r1\n",
    "            arr[mask] = 255\n",
    "            k -= 1\n",
    "        return arr, centers\n",
    "    \n",
    "    def get_img(self):\n",
    "        # not filtered array\n",
    "        return self.arr\n",
    "    \n",
    "    def show_img(self):\n",
    "        img_filtered = ndimage.fourier.fourier_gaussian(self.arr, sigma=2)\n",
    "        plt.imshow(img_filtered, cmap='gray', interpolation='nearest');\n",
    "        \n",
    "    def get_centers(self):\n",
    "        return self.centers\n",
    "    \n",
    "    def plt_x_section(self):\n",
    "        img_filtered = ndimage.filters.gaussian_filter(self.arr, sigma=2, order=0)\n",
    "        x, y = self.centers[0]\n",
    "        start = -1\n",
    "        end = -1\n",
    "        prev = -1\n",
    "        prev = 100\n",
    "        for i in range(0, 500):\n",
    "            curr = img_filtered[x][i]\n",
    "            if start == -1 and prev == 1.0 and curr != 1.0:\n",
    "                start = i\n",
    "            elif start != -1 and end == -1 and prev != 1.0 and curr == 1.0:\n",
    "                end = i\n",
    "                break\n",
    "            prev = curr\n",
    "        plt.plot(img_filtered[x][start:end])\n",
    "        plt.show()"
   ]
  },
  {
   "cell_type": "code",
   "execution_count": 7,
   "metadata": {
    "collapsed": true
   },
   "outputs": [],
   "source": [
    "img_2d = Img2D(100, 8, 1)\n"
   ]
  },
  {
   "cell_type": "code",
   "execution_count": 8,
   "metadata": {
    "scrolled": false
   },
   "outputs": [
    {
     "data": {
      "image/png": "[encoded data removed]",
      "text/plain": [
       "<matplotlib.figure.Figure at 0x11bb7c198>"
      ]
     },
     "metadata": {},
     "output_type": "display_data"
    }
   ],
   "source": [
    "plt.imshow(img_2d.arr, cmap='gray', interpolation='nearest');\n"
   ]
  },
  {
   "cell_type": "code",
   "execution_count": 33,
   "metadata": {
    "scrolled": true
   },
   "outputs": [],
   "source": [
    "n = 200\n",
    "a, b = n//2, n//2\n",
    "arr = np.zeros((n, n))\n",
    "y, x = np.ogrid[-a:n-a, -b:n-b]\n",
    "mask = x*x + y*y <= 15**2\n",
    "arr[mask] = 255\n",
    "img = arr\n",
    "\n",
    "#plt.imshow(arr, cmap='gray', interpolation='nearest');"
   ]
  },
  {
   "cell_type": "code",
   "execution_count": 39,
   "metadata": {
    "scrolled": false
   },
   "outputs": [],
   "source": [
    "#img = misc.ascent()\n",
    "\n",
    "def low_pass_filter(img, w):\n",
    "    \"\"\"\n",
    "    Returns a new image that is low pass filtered.\n",
    "    \"\"\"\n",
    "    f = np.fft.fft2(img)\n",
    "    fshift = np.fft.fftshift(f)\n",
    "    magnitude_spectrum = 20*np.log(np.abs(fshift))\n",
    "    # plt.imshow(magnitude_spectrum, cmap = 'gray')\n",
    "    rows, cols = img.shape\n",
    "    crow, ccol = rows//2 , cols//2\n",
    "    \n",
    "    \n",
    "    y, x = np.ogrid[-100:100, -100:100]\n",
    "    mask = x*x + y*y >= w**2\n",
    "    fshift[mask] = 0\n",
    "    \"\"\"\n",
    "    fshift[0:crow-w] = False\n",
    "    fshift[crow+w:] = False\n",
    "    fshift[:, 0:ccol-w] = False\n",
    "    fshift[:, ccol+w:] = False\n",
    "    \"\"\"\n",
    "    f_ishift = np.fft.ifftshift(fshift)\n",
    "    img_back = np.fft.ifft2(f_ishift)\n",
    "    img_back = np.abs(img_back)\n",
    "    return img_back\n",
    "    \n"
   ]
  },
  {
   "cell_type": "code",
   "execution_count": 42,
   "metadata": {},
   "outputs": [
    {
     "data": {
      "text/plain": [
       "<matplotlib.image.AxesImage at 0x7f7a0c85a588>"
      ]
     },
     "execution_count": 42,
     "metadata": {},
     "output_type": "execute_result"
    },
    {
     "data": {
      "image/png": "[encoded data removed]",
      "text/plain": [
       "<matplotlib.figure.Figure at 0x7f7a0c895cc0>"
      ]
     },
     "metadata": {},
     "output_type": "display_data"
    }
   ],
   "source": [
    "rv = low_pass_filter(img, 10)\n",
    "plt.imshow(rv, cmap='gray', interpolation='nearest')"
   ]
  },
  {
   "cell_type": "code",
   "execution_count": 43,
   "metadata": {
    "scrolled": true
   },
   "outputs": [
    {
     "data": {
      "text/plain": [
       "<matplotlib.image.AxesImage at 0x7f7a0c7b30f0>"
      ]
     },
     "execution_count": 43,
     "metadata": {},
     "output_type": "execute_result"
    },
    {
     "data": {
      "image/png": "[encoded data removed]",
      "text/plain": [
       "<matplotlib.figure.Figure at 0x7f7a0c8bdf60>"
      ]
     },
     "metadata": {},
     "output_type": "display_data"
    }
   ],
   "source": [
    "rv = ndimage.gaussian_filter(low_pass_filter(img, 10), sigma=15)\n",
    "plt.imshow(rv, cmap='gray', interpolation='nearest')"
   ]
  },
  {
   "cell_type": "code",
   "execution_count": 8,
   "metadata": {},
   "outputs": [
    {
     "data": {
      "text/plain": [
       "<matplotlib.image.AxesImage at 0x7f7a0d131eb8>"
      ]
     },
     "execution_count": 8,
     "metadata": {},
     "output_type": "execute_result"
    },
    {
     "data": {
      "image/png": "[encoded data removed]",
      "text/plain": [
       "<matplotlib.figure.Figure at 0x7f7a0d1aaba8>"
      ]
     },
     "metadata": {},
     "output_type": "display_data"
    }
   ],
   "source": [
    "rv = low_pass_filter(img, 16)\n",
    "plt.imshow(rv, cmap='gray', interpolation='nearest')"
   ]
  },
  {
   "cell_type": "code",
   "execution_count": 9,
   "metadata": {
    "scrolled": true
   },
   "outputs": [
    {
     "ename": "NameError",
     "evalue": "name 'fshift' is not defined",
     "output_type": "error",
     "traceback": [
      "\u001b[0;31m---------------------------------------------------------------------------\u001b[0m",
      "\u001b[0;31mNameError\u001b[0m                                 Traceback (most recent call last)",
      "\u001b[0;32m<ipython-input-9-054e2cfef1f1>\u001b[0m in \u001b[0;36m<module>\u001b[0;34m()\u001b[0m\n\u001b[1;32m      2\u001b[0m \u001b[0mcrow\u001b[0m\u001b[0;34m,\u001b[0m \u001b[0mccol\u001b[0m \u001b[0;34m=\u001b[0m \u001b[0mrows\u001b[0m\u001b[0;34m//\u001b[0m\u001b[0;36m2\u001b[0m \u001b[0;34m,\u001b[0m \u001b[0mcols\u001b[0m\u001b[0;34m//\u001b[0m\u001b[0;36m2\u001b[0m\u001b[0;34m\u001b[0m\u001b[0m\n\u001b[1;32m      3\u001b[0m \u001b[0mr\u001b[0m \u001b[0;34m=\u001b[0m \u001b[0;36m8\u001b[0m\u001b[0;34m\u001b[0m\u001b[0m\n\u001b[0;32m----> 4\u001b[0;31m \u001b[0mfshift\u001b[0m\u001b[0;34m[\u001b[0m\u001b[0;36m0\u001b[0m\u001b[0;34m:\u001b[0m\u001b[0mcrow\u001b[0m\u001b[0;34m-\u001b[0m\u001b[0mr\u001b[0m\u001b[0;34m]\u001b[0m \u001b[0;34m=\u001b[0m \u001b[0;36m0\u001b[0m\u001b[0;34m\u001b[0m\u001b[0m\n\u001b[0m\u001b[1;32m      5\u001b[0m \u001b[0mfshift\u001b[0m\u001b[0;34m[\u001b[0m\u001b[0mcrow\u001b[0m\u001b[0;34m+\u001b[0m\u001b[0mr\u001b[0m\u001b[0;34m:\u001b[0m\u001b[0;34m]\u001b[0m \u001b[0;34m=\u001b[0m \u001b[0;36m0\u001b[0m\u001b[0;34m\u001b[0m\u001b[0m\n\u001b[1;32m      6\u001b[0m \u001b[0mfshift\u001b[0m\u001b[0;34m[\u001b[0m\u001b[0;34m:\u001b[0m\u001b[0;34m,\u001b[0m \u001b[0;36m0\u001b[0m\u001b[0;34m:\u001b[0m\u001b[0mccol\u001b[0m\u001b[0;34m-\u001b[0m\u001b[0mr\u001b[0m\u001b[0;34m]\u001b[0m \u001b[0;34m=\u001b[0m \u001b[0;36m0\u001b[0m\u001b[0;34m\u001b[0m\u001b[0m\n",
      "\u001b[0;31mNameError\u001b[0m: name 'fshift' is not defined"
     ]
    }
   ],
   "source": [
    "rows, cols = img.shape\n",
    "crow, ccol = rows//2 , cols//2\n",
    "r = 8\n",
    "fshift[0:crow-r] = 0\n",
    "fshift[crow+r:] = 0\n",
    "fshift[:, 0:ccol-r] = 0\n",
    "fshift[:, ccol+r:] = 0\n",
    "\n",
    "f_ishift = np.fft.ifftshift(fshift)\n",
    "img_back = np.fft.ifft2(f_ishift)\n",
    "img_back = np.abs(img_back)\n",
    "plt.imshow(img_back, cmap='gray', interpolation='nearest')"
   ]
  },
  {
   "cell_type": "code",
   "execution_count": 1,
   "metadata": {},
   "outputs": [
    {
     "ename": "NameError",
     "evalue": "name 'np' is not defined",
     "output_type": "error",
     "traceback": [
      "\u001b[0;31m---------------------------------------------------------------------------\u001b[0m",
      "\u001b[0;31mNameError\u001b[0m                                 Traceback (most recent call last)",
      "\u001b[0;32m<ipython-input-1-2d2971db230f>\u001b[0m in \u001b[0;36m<module>\u001b[0;34m()\u001b[0m\n\u001b[1;32m      1\u001b[0m \u001b[0ma\u001b[0m\u001b[0;34m,\u001b[0m \u001b[0mb\u001b[0m \u001b[0;34m=\u001b[0m \u001b[0;36m250\u001b[0m\u001b[0;34m,\u001b[0m \u001b[0;36m250\u001b[0m\u001b[0;34m\u001b[0m\u001b[0m\n\u001b[0;32m----> 2\u001b[0;31m \u001b[0marr\u001b[0m \u001b[0;34m=\u001b[0m \u001b[0mnp\u001b[0m\u001b[0;34m.\u001b[0m\u001b[0mzeros\u001b[0m\u001b[0;34m(\u001b[0m\u001b[0;34m(\u001b[0m\u001b[0;36m500\u001b[0m\u001b[0;34m,\u001b[0m \u001b[0;36m500\u001b[0m\u001b[0;34m)\u001b[0m\u001b[0;34m)\u001b[0m\u001b[0;34m\u001b[0m\u001b[0m\n\u001b[0m\u001b[1;32m      3\u001b[0m \u001b[0my\u001b[0m\u001b[0;34m,\u001b[0m \u001b[0mx\u001b[0m \u001b[0;34m=\u001b[0m \u001b[0mnp\u001b[0m\u001b[0;34m.\u001b[0m\u001b[0mogrid\u001b[0m\u001b[0;34m[\u001b[0m\u001b[0;34m-\u001b[0m\u001b[0ma\u001b[0m\u001b[0;34m:\u001b[0m\u001b[0;36m500\u001b[0m\u001b[0;34m-\u001b[0m\u001b[0ma\u001b[0m\u001b[0;34m,\u001b[0m \u001b[0;34m-\u001b[0m\u001b[0mb\u001b[0m\u001b[0;34m:\u001b[0m\u001b[0;36m500\u001b[0m\u001b[0;34m-\u001b[0m\u001b[0mb\u001b[0m\u001b[0;34m]\u001b[0m\u001b[0;34m\u001b[0m\u001b[0m\n\u001b[1;32m      4\u001b[0m \u001b[0mmask\u001b[0m \u001b[0;34m=\u001b[0m \u001b[0mx\u001b[0m\u001b[0;34m*\u001b[0m\u001b[0mx\u001b[0m \u001b[0;34m+\u001b[0m \u001b[0my\u001b[0m\u001b[0;34m*\u001b[0m\u001b[0my\u001b[0m \u001b[0;34m<=\u001b[0m \u001b[0;36m15\u001b[0m\u001b[0;34m*\u001b[0m\u001b[0;36m15\u001b[0m\u001b[0;34m\u001b[0m\u001b[0m\n\u001b[1;32m      5\u001b[0m \u001b[0marr\u001b[0m\u001b[0;34m[\u001b[0m\u001b[0mmask\u001b[0m\u001b[0;34m]\u001b[0m \u001b[0;34m=\u001b[0m \u001b[0;36m255\u001b[0m\u001b[0;34m\u001b[0m\u001b[0m\n",
      "\u001b[0;31mNameError\u001b[0m: name 'np' is not defined"
     ]
    }
   ],
   "source": [
    "a, b = 250, 250\n",
    "arr = np.zeros((500, 500))\n",
    "y, x = np.ogrid[-a:500-a, -b:500-b]\n",
    "mask = x*x + y*y <= 15*15\n",
    "arr[mask] = 255\n",
    "img = arr\n",
    "\n",
    "img = ndimage.gaussian_filter(img, sigma=20)\n",
    "plt.imshow(img, cmap='gray', interpolation='nearest')"
   ]
  },
  {
   "cell_type": "code",
   "execution_count": null,
   "metadata": {
    "collapsed": true
   },
   "outputs": [],
   "source": [
    "# TODO: figure out a good radius for smaller points in 500x500x500 image"
   ]
  },
  {
   "cell_type": "code",
   "execution_count": null,
   "metadata": {
    "collapsed": true
   },
   "outputs": [],
   "source": [
    "class Img3D:\n",
    "    \n",
    "    def __init__(self, n, r, k):\n",
    "        self.n = n\n",
    "        self.r = r\n",
    "        self.k = k\n",
    "        self.img_unfiltered, self.centers = self.gen_3d_points()\n",
    "        # Might need to change sigma based on n.\n",
    "        self.img_filtered = ndimage.gaussian_filter(self.img_unfiltered, sigma=7, order=0)\n",
    "        \n",
    "    def gen_3d_points(self):\n",
    "        \"\"\"\n",
    "        n = dim of the image.\n",
    "        r = max radius of point.\n",
    "        k = num of random points.\n",
    "        all params >= 1.\n",
    "        \"\"\"\n",
    "        arr = np.zeros((self.n, self.n, self.n))\n",
    "        centers = []\n",
    "        for _ in range(self.k):\n",
    "            a = np.random.randint(self.n//4, 3*self.n//4)\n",
    "            b = np.random.randint(self.n//4, 3*self.n//4)\n",
    "            c = np.random.randint(self.n//4, 3*self.n//4)\n",
    "            # c = self.n//2\n",
    "            centers += [(a, b, c)]\n",
    "            r1 = np.random.randint(self.r//2, self.r)\n",
    "            z, y, x = np.ogrid[-a:self.n-a, -b:self.n-b, -c:self.n-c]\n",
    "            mask = x*x + y*y + z*z <= r1*r1\n",
    "            arr[mask] = 255\n",
    "        return arr, centers\n",
    "\n",
    "    def show_img(self, filter_flag):\n",
    "        if filter_flag == 0:\n",
    "            plt.imshow(self.img_unfiltered[self.centers[0][0]], cmap='gray', interpolation='nearest');\n",
    "        elif filter_flag == 1:\n",
    "            plt.imshow(self.img_filtered[:,self.centers[0][0],:,:], cmap='gray', interpolation='nearest');"
   ]
  },
  {
   "cell_type": "code",
   "execution_count": null,
   "metadata": {},
   "outputs": [],
   "source": [
    "img = Img3D(100, 20, 1)\n",
    "# (a, b, c)\n",
    "# a -> z axis\n",
    "# b ->"
   ]
  },
  {
   "cell_type": "code",
   "execution_count": null,
   "metadata": {
    "scrolled": true
   },
   "outputs": [],
   "source": [
    "plt.imshow(img.img_filtered[img.centers[0][0],:,:], cmap='gray', interpolation='nearest');"
   ]
  },
  {
   "cell_type": "code",
   "execution_count": null,
   "metadata": {
    "scrolled": true
   },
   "outputs": [],
   "source": [
    "plt.imshow(img.img_filtered[:,img.centers[0][1],:], cmap='gray', interpolation='nearest');"
   ]
  },
  {
   "cell_type": "code",
   "execution_count": null,
   "metadata": {},
   "outputs": [],
   "source": [
    "plt.imshow(img.img_filtered[:,:,img.centers[0][2]], cmap='gray', interpolation='nearest');"
   ]
  },
  {
   "cell_type": "code",
   "execution_count": null,
   "metadata": {
    "collapsed": true
   },
   "outputs": [],
   "source": [
    "self.img_filtered[self.centers[0][0],:,:] # xy plane\n",
    "\n",
    "self.img_filtered[:,self.centers[0][1],:,:] # xz plane\n",
    "\n",
    "self.img_filtered[:,:,self.centers[0][2]] # yz plane"
   ]
  },
  {
   "cell_type": "code",
   "execution_count": null,
   "metadata": {},
   "outputs": [],
   "source": [
    "import numpy as np\n",
    "from scipy import signal\n",
    "\n",
    "# first build the smoothing kernel\n",
    "sigma = 1.0     # width of kernel\n",
    "print(\"making axes...\")\n",
    "x = np.arange(-50,51,1)   # coordinate arrays -- make sure they contain 0!\n",
    "y = np.arange(-50,51,1)\n",
    "z = np.arange(-50,51,1)\n",
    "\n",
    "print(\"making meshgrid...\")\n",
    "xx, yy, zz = np.meshgrid(x,y,z)\n",
    "\n",
    "print(\"making kernel...\")\n",
    "kernel = np.exp(-(xx**2 + yy**2 + zz**2)/(2*sigma**2))\n",
    "\n",
    "# apply to sample data\n",
    "data = np.zeros((100, 100, 100))\n",
    "data[50, 50, 50] = 1.\n",
    "\n",
    "print(\"convolving...\")\n",
    "filtered = signal.convolve(data, kernel, mode=\"same\")\n",
    "\n",
    "# check output\n",
    "# print(filtered[5,:,:])"
   ]
  },
  {
   "cell_type": "code",
   "execution_count": null,
   "metadata": {
    "scrolled": true
   },
   "outputs": [],
   "source": [
    "plt.imshow(filtered[50,:,:], cmap='gray', interpolation='nearest');"
   ]
  }
 ],
 "metadata": {
  "kernelspec": {
   "display_name": "Python 3",
   "language": "python",
   "name": "python3"
  },
  "language_info": {
   "codemirror_mode": {
    "name": "ipython",
    "version": 3
   },
   "file_extension": ".py",
   "mimetype": "text/x-python",
   "name": "python",
   "nbconvert_exporter": "python",
   "pygments_lexer": "ipython3",
   "version": "3.6.3"
  }
 },
 "nbformat": 4,
 "nbformat_minor": 1
}
