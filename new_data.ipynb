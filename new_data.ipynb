{
 "cells": [
  {
   "cell_type": "markdown",
   "metadata": {},
   "source": [
    "- smaller radius, more blurred\n",
    "- https://www.tutorialspoint.com/dip/high_pass_vs_low_pass_filters.htm\n",
    "- http://opencv-python-tutroals.readthedocs.io/en/latest/py_tutorials/py_imgproc/py_transforms/py_fourier_transform/py_fourier_transform.html"
   ]
  },
  {
   "cell_type": "code",
   "execution_count": 1,
   "metadata": {
    "collapsed": false
   },
   "outputs": [],
   "source": [
    "import os, subprocess, glob\n",
    "\n",
    "import numpy as np\n",
    "from matplotlib import pyplot as plt\n",
    "from scipy import ndimage, fftpack, misc\n",
    "\n",
    "import matplotlib.cm as cm\n",
    "%matplotlib inline"
   ]
  },
  {
   "cell_type": "code",
   "execution_count": null,
   "metadata": {
    "collapsed": true
   },
   "outputs": [],
   "source": [
    "# not using this class for anything but it's a reference for refining the 3D image.\n",
    "\n",
    "class Img2D:\n",
    "    \n",
    "    def __init__(self, n, r, k):\n",
    "        self.n = n\n",
    "        self.r = r\n",
    "        self.k = k\n",
    "        self.arr, self.centers = self.gen_2d_points(n, r, k)\n",
    "\n",
    "    def gen_2d_points(self, n, r, k):\n",
    "        \"\"\"\n",
    "        n = dim of the image.\n",
    "        r = max radius of point.\n",
    "        k = num of random points.\n",
    "        all params >= 1.\n",
    "        \"\"\"\n",
    "        arr = np.ones((n, n))\n",
    "        centers = []\n",
    "        while k > 0:\n",
    "            a = np.random.randint(0, n)\n",
    "            b = np.random.randint(0, n)\n",
    "            centers += [(a, b)]\n",
    "            r1 = np.random.randint(r//2 + 1, r)\n",
    "            # (a, b) is center of point, r1 is radius for point. \n",
    "\n",
    "            y, x = np.ogrid[-a:n-a, -b:n-b]\n",
    "            mask = x*x + y*y <= r1*r1\n",
    "            arr[mask] = 255\n",
    "            k -= 1\n",
    "        return arr, centers\n",
    "    \n",
    "    def get_img(self):\n",
    "        # not filtered array\n",
    "        return self.arr\n",
    "    \n",
    "    def show_img(self):\n",
    "        img_filtered = ndimage.fourier.fourier_gaussian(self.arr, sigma=2)\n",
    "        plt.imshow(img_filtered, cmap='gray', interpolation='nearest');\n",
    "        \n",
    "    def get_centers(self):\n",
    "        return self.centers\n",
    "    \n",
    "    def plt_x_section(self):\n",
    "        img_filtered = ndimage.filters.gaussian_filter(self.arr, sigma=2, order=0)\n",
    "        x, y = self.centers[0]\n",
    "        start = -1\n",
    "        end = -1\n",
    "        prev = -1\n",
    "        prev = 100\n",
    "        for i in range(0, 500):\n",
    "            curr = img_filtered[x][i]\n",
    "            if start == -1 and prev == 1.0 and curr != 1.0:\n",
    "                start = i\n",
    "            elif start != -1 and end == -1 and prev != 1.0 and curr == 1.0:\n",
    "                end = i\n",
    "                break\n",
    "            prev = curr\n",
    "        plt.plot(img_filtered[x][start:end])\n",
    "        plt.show()"
   ]
  },
  {
   "cell_type": "code",
   "execution_count": null,
   "metadata": {
    "collapsed": true
   },
   "outputs": [],
   "source": [
    "img_2d = Img2D(100, 8, 1)\n"
   ]
  },
  {
   "cell_type": "code",
   "execution_count": null,
   "metadata": {
    "collapsed": false,
    "scrolled": false
   },
   "outputs": [],
   "source": [
    "plt.imshow(img_2d.arr, cmap='gray', interpolation='nearest');\n"
   ]
  },
  {
   "cell_type": "code",
   "execution_count": null,
   "metadata": {
    "collapsed": true,
    "scrolled": true
   },
   "outputs": [],
   "source": [
    "n = 200\n",
    "a, b = n//2, n//2\n",
    "arr = np.zeros((n, n))\n",
    "y, x = np.ogrid[-a:n-a, -b:n-b]\n",
    "mask = x*x + y*y <= 15**2\n",
    "arr[mask] = 255\n",
    "img = arr\n",
    "\n",
    "#plt.imshow(arr, cmap='gray', interpolation='nearest');"
   ]
  },
  {
   "cell_type": "code",
   "execution_count": null,
   "metadata": {
    "collapsed": true,
    "scrolled": false
   },
   "outputs": [],
   "source": [
    "#img = misc.ascent()\n",
    "\n",
    "def low_pass_filter(img, w):\n",
    "    \"\"\"\n",
    "    Returns a new image that is low pass filtered.\n",
    "    \"\"\"\n",
    "    f = np.fft.fft2(img)\n",
    "    fshift = np.fft.fftshift(f)\n",
    "    magnitude_spectrum = 20*np.log(np.abs(fshift))\n",
    "    # plt.imshow(magnitude_spectrum, cmap = 'gray')\n",
    "    rows, cols = img.shape\n",
    "    crow, ccol = rows//2 , cols//2\n",
    "    \n",
    "    \n",
    "    y, x = np.ogrid[-100:100, -100:100]\n",
    "    mask = x*x + y*y >= w**2\n",
    "    fshift[mask] = 0\n",
    "    \"\"\"\n",
    "    fshift[0:crow-w] = False\n",
    "    fshift[crow+w:] = False\n",
    "    fshift[:, 0:ccol-w] = False\n",
    "    fshift[:, ccol+w:] = False\n",
    "    \"\"\"\n",
    "    f_ishift = np.fft.ifftshift(fshift)\n",
    "    img_back = np.fft.ifft2(f_ishift)\n",
    "    img_back = np.abs(img_back)\n",
    "    return img_back\n",
    "    \n"
   ]
  },
  {
   "cell_type": "code",
   "execution_count": null,
   "metadata": {
    "collapsed": false
   },
   "outputs": [],
   "source": [
    "rv = low_pass_filter(img, 10)\n",
    "plt.imshow(rv, cmap='gray', interpolation='nearest')"
   ]
  },
  {
   "cell_type": "code",
   "execution_count": null,
   "metadata": {
    "collapsed": false,
    "scrolled": false
   },
   "outputs": [],
   "source": [
    "rv = low_pass_filter(ndimage.gaussian_filter(img, sigma=15), 10)\n",
    "plt.imshow(rv, cmap='gray', interpolation='nearest')"
   ]
  },
  {
   "cell_type": "code",
   "execution_count": null,
   "metadata": {
    "collapsed": false
   },
   "outputs": [],
   "source": [
    "rv = ndimage.gaussian_filter(low_pass_filter(img, 10), sigma=15)\n",
    "plt.imshow(rv, cmap='gray', interpolation='nearest')\n",
    "plt.imshow(rv, cmap='gray', interpolation='nearest')"
   ]
  },
  {
   "cell_type": "code",
   "execution_count": null,
   "metadata": {
    "collapsed": false
   },
   "outputs": [],
   "source": [
    "rv = low_pass_filter(img, 16)\n",
    "plt.imshow(rv, cmap='gray', interpolation='nearest')"
   ]
  },
  {
   "cell_type": "code",
   "execution_count": null,
   "metadata": {
    "collapsed": false,
    "scrolled": true
   },
   "outputs": [],
   "source": [
    "rows, cols = img.shape\n",
    "crow, ccol = rows//2 , cols//2\n",
    "r = 8\n",
    "fshift[0:crow-r] = 0\n",
    "fshift[crow+r:] = 0\n",
    "fshift[:, 0:ccol-r] = 0\n",
    "fshift[:, ccol+r:] = 0\n",
    "\n",
    "f_ishift = np.fft.ifftshift(fshift)\n",
    "img_back = np.fft.ifft2(f_ishift)\n",
    "img_back = np.abs(img_back)\n",
    "plt.imshow(img_back, cmap='gray', interpolation='nearest')"
   ]
  },
  {
   "cell_type": "code",
   "execution_count": null,
   "metadata": {
    "collapsed": false
   },
   "outputs": [],
   "source": [
    "a, b = 250, 250\n",
    "arr = np.zeros((500, 500))\n",
    "y, x = np.ogrid[-a:500-a, -b:500-b]\n",
    "mask = x*x + y*y <= 15*15\n",
    "arr[mask] = 255\n",
    "img = arr\n",
    "\n",
    "img = ndimage.gaussian_filter(img, sigma=20)\n",
    "plt.imshow(img, cmap='gray', interpolation='nearest')"
   ]
  },
  {
   "cell_type": "code",
   "execution_count": null,
   "metadata": {
    "collapsed": true
   },
   "outputs": [],
   "source": [
    "# TODO: figure out a good radius for smaller points in 500x500x500 image"
   ]
  },
  {
   "cell_type": "code",
   "execution_count": 25,
   "metadata": {
    "collapsed": true
   },
   "outputs": [],
   "source": [
    "class Img3D:\n",
    "    \n",
    "    def __init__(self, n, r, k):\n",
    "        self.n = n\n",
    "        self.r = r\n",
    "        self.k = k\n",
    "        self.img_unfiltered, self.centers = self.gen_3d_points()\n",
    "        # Might need to change sigma based on n.\n",
    "        self.img_filtered = ndimage.gaussian_filter(self.img_unfiltered, sigma=7, order=0)\n",
    "        \n",
    "    def gen_3d_points(self):\n",
    "        \"\"\"\n",
    "        n = dim of the image.\n",
    "        r = max radius of point.\n",
    "        k = num of random points.\n",
    "        all params >= 1.\n",
    "        \"\"\"\n",
    "        arr = np.zeros((self.n, self.n, self.n))\n",
    "        centers = []\n",
    "        for _ in range(self.k):\n",
    "            a = np.random.randint(self.n//4, 3*self.n//4)\n",
    "            b = np.random.randint(self.n//4, 3*self.n//4)\n",
    "            c = np.random.randint(self.n//4, 3*self.n//4)\n",
    "            # c = self.n//2\n",
    "            centers += [(a, b, c)]\n",
    "            r1 = np.random.randint(self.r//2, self.r)\n",
    "            z, y, x = np.ogrid[-a:self.n-a, -b:self.n-b, -c:self.n-c]\n",
    "            mask = x*x + y*y + z*z <= r1*r1\n",
    "            arr[mask] = 255\n",
    "        return arr, centers\n",
    "\n",
    "    def show_img(self, filter_flag):\n",
    "        if filter_flag == 0:\n",
    "            plt.imshow(self.img_unfiltered[self.centers[0][0]], cmap='gray', interpolation='nearest');\n",
    "        elif filter_flag == 1:\n",
    "            plt.imshow(self.img_filtered[:,self.centers[0][0],:,:], cmap='gray', interpolation='nearest');\n",
    "            \n",
    "    def x_section(self):\n",
    "        fig = plt.figure(figsize=(8, 4*len(self.centers)))\n",
    "\n",
    "        rows = len(self.centers)\n",
    "        for i in range(rows):\n",
    "            z, y, x = self.centers[i]\n",
    "            print(z, y, x)\n",
    "            axis = np.arange(0, self.n, 1)\n",
    "\n",
    "            z_vals = self.img_filtered[:, y, x]\n",
    "            fig.add_subplot(rows, 3, 3*i+1)\n",
    "            plt.plot(axis, z_vals)\n",
    "\n",
    "            y_vals = self.img_filtered[z, :, x]\n",
    "            fig.add_subplot(rows, 3, 3*i+2)\n",
    "            plt.plot(axis, y_vals)\n",
    "\n",
    "            x_vals = self.img_filtered[z, y, :]\n",
    "            fig.add_subplot(rows, 3, 3*i+3)\n",
    "            plt.plot(axis, x_vals)\n",
    "            \n",
    "        plt.show()"
   ]
  },
  {
   "cell_type": "code",
   "execution_count": 26,
   "metadata": {
    "collapsed": false
   },
   "outputs": [
    {
     "data": {
      "text/plain": [
       "'\\nz, y, x = img.centers[0]\\nprint(x, y, z)\\naxis = np.arange(0, img.n, 1)\\n\\nz_vals = img.img_filtered[:, y, x]\\nfig.add_subplot(1, 3, 1)\\nplt.plot(axis, z_vals)\\n\\ny_vals = img.img_filtered[z, :, x]\\nfig.add_subplot(1, 3, 2)\\nplt.plot(axis, y_vals)\\n\\nx_vals = img.img_filtered[z, y, :]\\nfig.add_subplot(1, 3, 3)\\nplt.plot(axis, x_vals)\\n'"
      ]
     },
     "execution_count": 26,
     "metadata": {},
     "output_type": "execute_result"
    },
    {
     "data": {
      "text/plain": [
       "<matplotlib.figure.Figure at 0x1160a5668>"
      ]
     },
     "metadata": {},
     "output_type": "display_data"
    }
   ],
   "source": [
    "fig = plt.figure(figsize=(8, 4))\n",
    "\n",
    "img = Img3D(100, 20, 3)\n",
    "\"\"\"\n",
    "z, y, x = img.centers[0]\n",
    "print(x, y, z)\n",
    "axis = np.arange(0, img.n, 1)\n",
    "\n",
    "z_vals = img.img_filtered[:, y, x]\n",
    "fig.add_subplot(1, 3, 1)\n",
    "plt.plot(axis, z_vals)\n",
    "\n",
    "y_vals = img.img_filtered[z, :, x]\n",
    "fig.add_subplot(1, 3, 2)\n",
    "plt.plot(axis, y_vals)\n",
    "\n",
    "x_vals = img.img_filtered[z, y, :]\n",
    "fig.add_subplot(1, 3, 3)\n",
    "plt.plot(axis, x_vals)\n",
    "\"\"\"\n"
   ]
  },
  {
   "cell_type": "code",
   "execution_count": 27,
   "metadata": {
    "collapsed": false
   },
   "outputs": [
    {
     "name": "stdout",
     "output_type": "stream",
     "text": [
      "60 25 74\n",
      "31 36 38\n",
      "62 66 71\n"
     ]
    },
    {
     "data": {
      "image/png": "[encoded data removed]",
      "text/plain": [
       "<matplotlib.figure.Figure at 0x1150f2e48>"
      ]
     },
     "metadata": {},
     "output_type": "display_data"
    }
   ],
   "source": [
    "img.x_section()"
   ]
  },
  {
   "cell_type": "code",
   "execution_count": null,
   "metadata": {
    "collapsed": true
   },
   "outputs": [],
   "source": []
  }
 ],
 "metadata": {
  "kernelspec": {
   "display_name": "Python 3",
   "language": "python",
   "name": "python3"
  },
  "language_info": {
   "codemirror_mode": {
    "name": "ipython",
    "version": 3
   },
   "file_extension": ".py",
   "mimetype": "text/x-python",
   "name": "python",
   "nbconvert_exporter": "python",
   "pygments_lexer": "ipython3",
   "version": "3.6.0"
  }
 },
 "nbformat": 4,
 "nbformat_minor": 1
}
